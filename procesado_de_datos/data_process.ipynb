{
 "cells": [
  {
   "cell_type": "markdown",
   "metadata": {},
   "source": [
    "# Importaciones y carga de datos"
   ]
  },
  {
   "cell_type": "code",
   "execution_count": 27,
   "metadata": {},
   "outputs": [],
   "source": [
    "import pandas as pd"
   ]
  },
  {
   "cell_type": "markdown",
   "metadata": {},
   "source": [
    "El archivo Excel fue descargado y procesado de manera local (debido a que los enlaces raw no se pueden cargar de forma directa con archivos de extensión XLSX). \n",
    "\n",
    "Dicho archivo se encuentra disponible en el siguiente enlace: \n",
    "\n",
    "https://github.com/CristopherGR/crime_prediction/raw/main/procesado_de_datos/Base_de_datos_DETENIDOS_ANIO_2016_ENERO_2024.xlsx"
   ]
  },
  {
   "cell_type": "code",
   "execution_count": null,
   "metadata": {},
   "outputs": [],
   "source": [
    "excel_file = \"C:/Users/crist/Documentos/temp/Base_de_datos_DETENIDOS_ANIO_2016_ENERO_2024.xlsx\""
   ]
  },
  {
   "cell_type": "markdown",
   "metadata": {},
   "source": [
    "# 2023"
   ]
  },
  {
   "cell_type": "code",
   "execution_count": 29,
   "metadata": {},
   "outputs": [],
   "source": [
    "datos_2023 = pd.read_excel(excel_file, sheet_name=\"2023\")"
   ]
  },
  {
   "cell_type": "markdown",
   "metadata": {},
   "source": [
    "#### Eliminación de columnas que no se utilizarán"
   ]
  },
  {
   "cell_type": "code",
   "execution_count": 30,
   "metadata": {},
   "outputs": [
    {
     "data": {
      "text/plain": [
       "Index(['codigo_iccs', 'tipo', 'estado_civil', 'estatus_migratorio', 'edad',\n",
       "       'sexo', 'genero', 'nacionalidad', 'autoidentificacion_etnica',\n",
       "       'numero_detenciones', 'nivel_de_instruccion', 'condicion',\n",
       "       'movilizacion', 'tipo_arma', 'arma', 'fecha_detencion_aprehension',\n",
       "       'hora_detencion_aprehension', 'lugar', 'tipo_lugar', 'codigo_distrito',\n",
       "       'codigo_circuito', 'codigo_subcircuito', 'nombre_zona',\n",
       "       'nombre_subzona', 'nombre_distrito', 'nombre_circuito',\n",
       "       'nombre_subcircuito', 'codigo_provincia', 'codigo_canton',\n",
       "       'codigo_parroquia', 'nombre_provincia', 'nombre_canton',\n",
       "       'nombre_parroquia', 'presunta_flagrancia', 'presunta_infraccion',\n",
       "       'presunta_subinfraccion', 'presunta_modalidad'],\n",
       "      dtype='object')"
      ]
     },
     "execution_count": 30,
     "metadata": {},
     "output_type": "execute_result"
    }
   ],
   "source": [
    "datos_2023.columns"
   ]
  },
  {
   "cell_type": "code",
   "execution_count": 31,
   "metadata": {},
   "outputs": [],
   "source": [
    "datos_2023 = datos_2023.drop(columns=['codigo_iccs', 'tipo', 'estado_civil', 'estatus_migratorio',\n",
    "       'genero', 'autoidentificacion_etnica',\n",
    "       'numero_detenciones', 'nivel_de_instruccion', 'condicion',\n",
    "       'movilizacion', 'tipo_arma', 'arma',\n",
    "       'hora_detencion_aprehension', 'lugar', 'tipo_lugar', 'codigo_distrito',\n",
    "       'codigo_circuito', 'codigo_subcircuito', 'nombre_zona',\n",
    "       'nombre_subzona', 'nombre_distrito', 'nombre_circuito',\n",
    "       'nombre_subcircuito', 'codigo_provincia', 'codigo_canton',\n",
    "       'codigo_parroquia', 'nombre_canton',\n",
    "       'nombre_parroquia', 'presunta_flagrancia', 'presunta_infraccion',\n",
    "       'presunta_modalidad'])"
   ]
  },
  {
   "cell_type": "code",
   "execution_count": 32,
   "metadata": {},
   "outputs": [
    {
     "data": {
      "text/html": [
       "<div>\n",
       "<style scoped>\n",
       "    .dataframe tbody tr th:only-of-type {\n",
       "        vertical-align: middle;\n",
       "    }\n",
       "\n",
       "    .dataframe tbody tr th {\n",
       "        vertical-align: top;\n",
       "    }\n",
       "\n",
       "    .dataframe thead th {\n",
       "        text-align: right;\n",
       "    }\n",
       "</style>\n",
       "<table border=\"1\" class=\"dataframe\">\n",
       "  <thead>\n",
       "    <tr style=\"text-align: right;\">\n",
       "      <th></th>\n",
       "      <th>edad</th>\n",
       "      <th>sexo</th>\n",
       "      <th>nacionalidad</th>\n",
       "      <th>fecha_detencion_aprehension</th>\n",
       "      <th>nombre_provincia</th>\n",
       "      <th>presunta_subinfraccion</th>\n",
       "    </tr>\n",
       "  </thead>\n",
       "  <tbody>\n",
       "    <tr>\n",
       "      <th>0</th>\n",
       "      <td>27</td>\n",
       "      <td>HOMBRE</td>\n",
       "      <td>VENEZOLANO</td>\n",
       "      <td>2023-05-17</td>\n",
       "      <td>PICHINCHA</td>\n",
       "      <td>PRODUCCIÓN ILÍCITA DE SUSTANCIAS CATALOGADAS S...</td>\n",
       "    </tr>\n",
       "    <tr>\n",
       "      <th>1</th>\n",
       "      <td>55</td>\n",
       "      <td>HOMBRE</td>\n",
       "      <td>ECUATORIANO</td>\n",
       "      <td>2023-09-11</td>\n",
       "      <td>ESMERALDAS</td>\n",
       "      <td>BOLETA DE APREMIO</td>\n",
       "    </tr>\n",
       "    <tr>\n",
       "      <th>2</th>\n",
       "      <td>35</td>\n",
       "      <td>HOMBRE</td>\n",
       "      <td>ECUATORIANO</td>\n",
       "      <td>2023-01-20</td>\n",
       "      <td>AZUAY</td>\n",
       "      <td>ATAQUE O RESISTENCIA</td>\n",
       "    </tr>\n",
       "    <tr>\n",
       "      <th>3</th>\n",
       "      <td>35</td>\n",
       "      <td>HOMBRE</td>\n",
       "      <td>ECUATORIANO</td>\n",
       "      <td>2023-01-21</td>\n",
       "      <td>AZUAY</td>\n",
       "      <td>BOLETA DE APREMIO</td>\n",
       "    </tr>\n",
       "    <tr>\n",
       "      <th>4</th>\n",
       "      <td>22</td>\n",
       "      <td>HOMBRE</td>\n",
       "      <td>ECUATORIANO</td>\n",
       "      <td>2023-09-28</td>\n",
       "      <td>ZAMORA CHINCHIPE</td>\n",
       "      <td>LESIONES CAUSADAS POR ACCIDENTE DE TRÁNSITO</td>\n",
       "    </tr>\n",
       "  </tbody>\n",
       "</table>\n",
       "</div>"
      ],
      "text/plain": [
       "  edad    sexo nacionalidad fecha_detencion_aprehension  nombre_provincia  \\\n",
       "0   27  HOMBRE   VENEZOLANO                  2023-05-17         PICHINCHA   \n",
       "1   55  HOMBRE  ECUATORIANO                  2023-09-11        ESMERALDAS   \n",
       "2   35  HOMBRE  ECUATORIANO                  2023-01-20             AZUAY   \n",
       "3   35  HOMBRE  ECUATORIANO                  2023-01-21             AZUAY   \n",
       "4   22  HOMBRE  ECUATORIANO                  2023-09-28  ZAMORA CHINCHIPE   \n",
       "\n",
       "                              presunta_subinfraccion  \n",
       "0  PRODUCCIÓN ILÍCITA DE SUSTANCIAS CATALOGADAS S...  \n",
       "1                                  BOLETA DE APREMIO  \n",
       "2                               ATAQUE O RESISTENCIA  \n",
       "3                                  BOLETA DE APREMIO  \n",
       "4        LESIONES CAUSADAS POR ACCIDENTE DE TRÁNSITO  "
      ]
     },
     "execution_count": 32,
     "metadata": {},
     "output_type": "execute_result"
    }
   ],
   "source": [
    "datos_2023.head(5)"
   ]
  },
  {
   "cell_type": "markdown",
   "metadata": {},
   "source": [
    "#### Renombramiento de columnas"
   ]
  },
  {
   "cell_type": "code",
   "execution_count": 33,
   "metadata": {},
   "outputs": [
    {
     "data": {
      "text/html": [
       "<div>\n",
       "<style scoped>\n",
       "    .dataframe tbody tr th:only-of-type {\n",
       "        vertical-align: middle;\n",
       "    }\n",
       "\n",
       "    .dataframe tbody tr th {\n",
       "        vertical-align: top;\n",
       "    }\n",
       "\n",
       "    .dataframe thead th {\n",
       "        text-align: right;\n",
       "    }\n",
       "</style>\n",
       "<table border=\"1\" class=\"dataframe\">\n",
       "  <thead>\n",
       "    <tr style=\"text-align: right;\">\n",
       "      <th></th>\n",
       "      <th>edad</th>\n",
       "      <th>sexo</th>\n",
       "      <th>nacionalidad</th>\n",
       "      <th>fecha_detencion</th>\n",
       "      <th>provincia</th>\n",
       "      <th>presunta_subinfraccion</th>\n",
       "    </tr>\n",
       "  </thead>\n",
       "  <tbody>\n",
       "    <tr>\n",
       "      <th>0</th>\n",
       "      <td>27</td>\n",
       "      <td>HOMBRE</td>\n",
       "      <td>VENEZOLANO</td>\n",
       "      <td>2023-05-17</td>\n",
       "      <td>PICHINCHA</td>\n",
       "      <td>PRODUCCIÓN ILÍCITA DE SUSTANCIAS CATALOGADAS S...</td>\n",
       "    </tr>\n",
       "    <tr>\n",
       "      <th>1</th>\n",
       "      <td>55</td>\n",
       "      <td>HOMBRE</td>\n",
       "      <td>ECUATORIANO</td>\n",
       "      <td>2023-09-11</td>\n",
       "      <td>ESMERALDAS</td>\n",
       "      <td>BOLETA DE APREMIO</td>\n",
       "    </tr>\n",
       "    <tr>\n",
       "      <th>2</th>\n",
       "      <td>35</td>\n",
       "      <td>HOMBRE</td>\n",
       "      <td>ECUATORIANO</td>\n",
       "      <td>2023-01-20</td>\n",
       "      <td>AZUAY</td>\n",
       "      <td>ATAQUE O RESISTENCIA</td>\n",
       "    </tr>\n",
       "    <tr>\n",
       "      <th>3</th>\n",
       "      <td>35</td>\n",
       "      <td>HOMBRE</td>\n",
       "      <td>ECUATORIANO</td>\n",
       "      <td>2023-01-21</td>\n",
       "      <td>AZUAY</td>\n",
       "      <td>BOLETA DE APREMIO</td>\n",
       "    </tr>\n",
       "    <tr>\n",
       "      <th>4</th>\n",
       "      <td>22</td>\n",
       "      <td>HOMBRE</td>\n",
       "      <td>ECUATORIANO</td>\n",
       "      <td>2023-09-28</td>\n",
       "      <td>ZAMORA CHINCHIPE</td>\n",
       "      <td>LESIONES CAUSADAS POR ACCIDENTE DE TRÁNSITO</td>\n",
       "    </tr>\n",
       "  </tbody>\n",
       "</table>\n",
       "</div>"
      ],
      "text/plain": [
       "  edad    sexo nacionalidad fecha_detencion         provincia  \\\n",
       "0   27  HOMBRE   VENEZOLANO      2023-05-17         PICHINCHA   \n",
       "1   55  HOMBRE  ECUATORIANO      2023-09-11        ESMERALDAS   \n",
       "2   35  HOMBRE  ECUATORIANO      2023-01-20             AZUAY   \n",
       "3   35  HOMBRE  ECUATORIANO      2023-01-21             AZUAY   \n",
       "4   22  HOMBRE  ECUATORIANO      2023-09-28  ZAMORA CHINCHIPE   \n",
       "\n",
       "                              presunta_subinfraccion  \n",
       "0  PRODUCCIÓN ILÍCITA DE SUSTANCIAS CATALOGADAS S...  \n",
       "1                                  BOLETA DE APREMIO  \n",
       "2                               ATAQUE O RESISTENCIA  \n",
       "3                                  BOLETA DE APREMIO  \n",
       "4        LESIONES CAUSADAS POR ACCIDENTE DE TRÁNSITO  "
      ]
     },
     "execution_count": 33,
     "metadata": {},
     "output_type": "execute_result"
    }
   ],
   "source": [
    "datos_2023 = datos_2023.rename(columns={'fecha_detencion_aprehension': 'fecha_detencion', 'nombre_provincia': 'provincia'})\n",
    "\n",
    "datos_2023.head(5)"
   ]
  },
  {
   "cell_type": "markdown",
   "metadata": {},
   "source": [
    "#### Eliminación de inconsistencias (nulos, vacios, inconsistentes)"
   ]
  },
  {
   "cell_type": "code",
   "execution_count": 34,
   "metadata": {},
   "outputs": [
    {
     "data": {
      "text/plain": [
       "array([27, 55, 35, 22, 26, 23, 31, 29, 62, 18, 24, 58, 25, 59, 63, 64, 53,\n",
       "       16, 40, 43, 39, 56, 17, 14, 51, 54, 48, 34, 32, 66, 67, 68, 44, 19,\n",
       "       28, 41, 42, 61, 36, 37, 30, 21, 46, 33, 20, 57, 65, 72, 50,\n",
       "       'SIN DATO', 47, 45, 49, 38, 15, 60, 52, 87, 79, 80, 71, 70, 13, 81,\n",
       "       69, 76, 74, 75, 73, 78, 85, 12, 77, 86, 83, 82, 84, 89, 10],\n",
       "      dtype=object)"
      ]
     },
     "execution_count": 34,
     "metadata": {},
     "output_type": "execute_result"
    }
   ],
   "source": [
    "datos_2023['edad'].unique()"
   ]
  },
  {
   "cell_type": "code",
   "execution_count": 35,
   "metadata": {},
   "outputs": [
    {
     "data": {
      "text/plain": [
       "array([27, 55, 35, 22, 26, 23, 31, 29, 62, 18, 24, 58, 25, 59, 63, 64, 53,\n",
       "       16, 40, 43, 39, 56, 17, 14, 51, 54, 48, 34, 32, 66, 67, 68, 44, 19,\n",
       "       28, 41, 42, 61, 36, 37, 30, 21, 46, 33, 20, 57, 65, 72, 50, 47, 45,\n",
       "       49, 38, 15, 60, 52, 87, 79, 80, 71, 70, 13, 81, 69, 76, 74, 75, 73,\n",
       "       78, 85, 12, 77, 86, 83, 82, 84, 89, 10], dtype=object)"
      ]
     },
     "execution_count": 35,
     "metadata": {},
     "output_type": "execute_result"
    }
   ],
   "source": [
    "datos_2023 = datos_2023[datos_2023['edad'] != 'SIN DATO']\n",
    "datos_2023['edad'].unique()"
   ]
  },
  {
   "cell_type": "code",
   "execution_count": 36,
   "metadata": {},
   "outputs": [
    {
     "data": {
      "text/plain": [
       "array(['VENEZOLANO', 'ECUATORIANO', 'COLOMBIANO', 'SIN DATO', 'PERUANO',\n",
       "       'DOMINICANO', 'CUBANO', 'CHILENO', 'ESPAÑOL', 'ARGENTINO',\n",
       "       'NIGERIANO', 'CANADIENSE', 'AUSTRALIANO', 'MEXICANO', 'CHINO',\n",
       "       'GUATEMALTECO', 'ESTADOUNIDENCE', 'GRIEGO', 'ALEMÁN', 'ITALIANO',\n",
       "       'BIELORUSO', 'LIBANÉS', 'KIRGUÍS', 'ALBANO', 'INDIO/HINDÚ',\n",
       "       'HAITIANO', 'RUSO', 'URUGUAYO', 'ISRAELÍ', 'ECUATOGUINEANO',\n",
       "       'BOLIVIANO', 'PANAMEÑO', 'RUMANO', 'PALAUANO', 'ESTONIO',\n",
       "       'BRITÁNICO', 'CROATA'], dtype=object)"
      ]
     },
     "execution_count": 36,
     "metadata": {},
     "output_type": "execute_result"
    }
   ],
   "source": [
    "datos_2023['nacionalidad'].unique()"
   ]
  },
  {
   "cell_type": "code",
   "execution_count": 37,
   "metadata": {},
   "outputs": [
    {
     "data": {
      "text/plain": [
       "array(['VENEZOLANO', 'ECUATORIANO', 'COLOMBIANO', 'PERUANO', 'DOMINICANO',\n",
       "       'CUBANO', 'CHILENO', 'ESPAÑOL', 'ARGENTINO', 'NIGERIANO',\n",
       "       'CANADIENSE', 'AUSTRALIANO', 'MEXICANO', 'CHINO', 'GUATEMALTECO',\n",
       "       'ESTADOUNIDENCE', 'GRIEGO', 'ALEMÁN', 'ITALIANO', 'BIELORUSO',\n",
       "       'LIBANÉS', 'KIRGUÍS', 'ALBANO', 'INDIO/HINDÚ', 'HAITIANO', 'RUSO',\n",
       "       'URUGUAYO', 'ISRAELÍ', 'ECUATOGUINEANO', 'BOLIVIANO', 'PANAMEÑO',\n",
       "       'RUMANO', 'PALAUANO', 'ESTONIO', 'BRITÁNICO', 'CROATA'],\n",
       "      dtype=object)"
      ]
     },
     "execution_count": 37,
     "metadata": {},
     "output_type": "execute_result"
    }
   ],
   "source": [
    "datos_2023 = datos_2023[datos_2023['nacionalidad'] != 'SIN DATO']\n",
    "datos_2023['nacionalidad'].unique()"
   ]
  },
  {
   "cell_type": "code",
   "execution_count": 38,
   "metadata": {},
   "outputs": [
    {
     "data": {
      "text/plain": [
       "array(['PICHINCHA', 'ESMERALDAS', 'AZUAY', 'ZAMORA CHINCHIPE', 'CAÑAR',\n",
       "       'EL ORO', 'LOJA', 'CHIMBORAZO', 'GUAYAS', 'SUCUMBIOS', 'GALAPAGOS',\n",
       "       'IMBABURA', 'MANABI', 'SANTO DOMINGO DE LOS TSACHILAS', 'ORELLANA',\n",
       "       'CARCHI', 'TUNGURAHUA', 'NAPO', 'COTOPAXI', 'BOLIVAR',\n",
       "       'MORONA SANTIAGO', 'PASTAZA', 'SANTA ELENA', 'LOS RIOS',\n",
       "       'MAR TERRITORIAL'], dtype=object)"
      ]
     },
     "execution_count": 38,
     "metadata": {},
     "output_type": "execute_result"
    }
   ],
   "source": [
    "datos_2023['provincia'].unique()"
   ]
  },
  {
   "cell_type": "code",
   "execution_count": 39,
   "metadata": {},
   "outputs": [
    {
     "data": {
      "text/plain": [
       "array(['PICHINCHA', 'ESMERALDAS', 'AZUAY', 'ZAMORA CHINCHIPE', 'CAÑAR',\n",
       "       'EL ORO', 'LOJA', 'CHIMBORAZO', 'GUAYAS', 'SUCUMBIOS', 'GALAPAGOS',\n",
       "       'IMBABURA', 'MANABI', 'SANTO DOMINGO DE LOS TSACHILAS', 'ORELLANA',\n",
       "       'CARCHI', 'TUNGURAHUA', 'NAPO', 'COTOPAXI', 'BOLIVAR',\n",
       "       'MORONA SANTIAGO', 'PASTAZA', 'SANTA ELENA', 'LOS RIOS'],\n",
       "      dtype=object)"
      ]
     },
     "execution_count": 39,
     "metadata": {},
     "output_type": "execute_result"
    }
   ],
   "source": [
    "datos_2023 = datos_2023[datos_2023['provincia'] != 'MAR TERRITORIAL']\n",
    "datos_2023['provincia'].unique()"
   ]
  },
  {
   "cell_type": "markdown",
   "metadata": {},
   "source": [
    "#### Exportar a csv"
   ]
  },
  {
   "cell_type": "code",
   "execution_count": 40,
   "metadata": {},
   "outputs": [],
   "source": [
    "#datos_2023.to_csv(\"C:/Users/crist/Documentos/unir/tfm/data/2023.csv\", index=False)"
   ]
  },
  {
   "cell_type": "markdown",
   "metadata": {},
   "source": [
    "# 2022"
   ]
  },
  {
   "cell_type": "code",
   "execution_count": 41,
   "metadata": {},
   "outputs": [],
   "source": [
    "datos_2022 = pd.read_excel(excel_file, sheet_name=\"2022\")"
   ]
  },
  {
   "cell_type": "markdown",
   "metadata": {},
   "source": [
    "#### Eliminación de columnas que no se utilizarán"
   ]
  },
  {
   "cell_type": "code",
   "execution_count": 42,
   "metadata": {},
   "outputs": [
    {
     "data": {
      "text/plain": [
       "Index(['tipo', 'edad', 'sexo', 'nacionalidad', 'autoidentificacion_etnica',\n",
       "       'numero_detenciones', 'nombre_provincia', 'nombre_canton',\n",
       "       'nombre_parroquia', 'nombre_zona', 'nombre_subzona', 'nombre_distrito',\n",
       "       'codigo_distrito', 'nombre_circuito', 'codigo_circuito',\n",
       "       'nombre_subcircuito', 'codigo_subcircuito', 'lugar',\n",
       "       'presunta_infraccion', 'presunta_subinfraccion',\n",
       "       'fecha_detencion_aprehension', 'hora_detencion_aprehension',\n",
       "       'presunta_flagrancia'],\n",
       "      dtype='object')"
      ]
     },
     "execution_count": 42,
     "metadata": {},
     "output_type": "execute_result"
    }
   ],
   "source": [
    "datos_2022.columns"
   ]
  },
  {
   "cell_type": "code",
   "execution_count": 43,
   "metadata": {},
   "outputs": [],
   "source": [
    "datos_2022 = datos_2022.drop(columns=['tipo','autoidentificacion_etnica',\n",
    "       'numero_detenciones', 'nombre_canton',\n",
    "       'nombre_parroquia', 'nombre_zona', 'nombre_subzona', 'nombre_distrito',\n",
    "       'codigo_distrito', 'nombre_circuito', 'codigo_circuito',\n",
    "       'nombre_subcircuito', 'codigo_subcircuito', 'lugar',\n",
    "       'presunta_infraccion',\n",
    "       'hora_detencion_aprehension',\n",
    "       'presunta_flagrancia'])"
   ]
  },
  {
   "cell_type": "code",
   "execution_count": 44,
   "metadata": {},
   "outputs": [
    {
     "data": {
      "text/html": [
       "<div>\n",
       "<style scoped>\n",
       "    .dataframe tbody tr th:only-of-type {\n",
       "        vertical-align: middle;\n",
       "    }\n",
       "\n",
       "    .dataframe tbody tr th {\n",
       "        vertical-align: top;\n",
       "    }\n",
       "\n",
       "    .dataframe thead th {\n",
       "        text-align: right;\n",
       "    }\n",
       "</style>\n",
       "<table border=\"1\" class=\"dataframe\">\n",
       "  <thead>\n",
       "    <tr style=\"text-align: right;\">\n",
       "      <th></th>\n",
       "      <th>edad</th>\n",
       "      <th>sexo</th>\n",
       "      <th>nacionalidad</th>\n",
       "      <th>nombre_provincia</th>\n",
       "      <th>presunta_subinfraccion</th>\n",
       "      <th>fecha_detencion_aprehension</th>\n",
       "    </tr>\n",
       "  </thead>\n",
       "  <tbody>\n",
       "    <tr>\n",
       "      <th>0</th>\n",
       "      <td>39</td>\n",
       "      <td>MUJER</td>\n",
       "      <td>ECUATORIANO</td>\n",
       "      <td>PICHINCHA</td>\n",
       "      <td>INCUMPLIMIENTO DE DECISIONES LEGÍTIMAS DE AUTO...</td>\n",
       "      <td>2022-01-13</td>\n",
       "    </tr>\n",
       "    <tr>\n",
       "      <th>1</th>\n",
       "      <td>38</td>\n",
       "      <td>HOMBRE</td>\n",
       "      <td>ECUATORIANO</td>\n",
       "      <td>COTOPAXI</td>\n",
       "      <td>SICARIATO</td>\n",
       "      <td>2022-01-13</td>\n",
       "    </tr>\n",
       "    <tr>\n",
       "      <th>2</th>\n",
       "      <td>32</td>\n",
       "      <td>HOMBRE</td>\n",
       "      <td>ECUATORIANO</td>\n",
       "      <td>SANTO DOMINGO DE LOS TSACHILAS</td>\n",
       "      <td>HOMICIDIO</td>\n",
       "      <td>2022-01-27</td>\n",
       "    </tr>\n",
       "    <tr>\n",
       "      <th>3</th>\n",
       "      <td>27</td>\n",
       "      <td>HOMBRE</td>\n",
       "      <td>ECUATORIANO</td>\n",
       "      <td>TUNGURAHUA</td>\n",
       "      <td>VIOLENCIA FÍSICA CONTRA LA MUJER O MIEMBROS DE...</td>\n",
       "      <td>2022-02-26</td>\n",
       "    </tr>\n",
       "    <tr>\n",
       "      <th>4</th>\n",
       "      <td>33</td>\n",
       "      <td>HOMBRE</td>\n",
       "      <td>VENEZOLANO</td>\n",
       "      <td>GUAYAS</td>\n",
       "      <td>VIOLENCIA FÍSICA CONTRA LA MUJER O MIEMBROS DE...</td>\n",
       "      <td>2022-04-18</td>\n",
       "    </tr>\n",
       "  </tbody>\n",
       "</table>\n",
       "</div>"
      ],
      "text/plain": [
       "  edad    sexo nacionalidad                nombre_provincia  \\\n",
       "0   39   MUJER  ECUATORIANO                       PICHINCHA   \n",
       "1   38  HOMBRE  ECUATORIANO                        COTOPAXI   \n",
       "2   32  HOMBRE  ECUATORIANO  SANTO DOMINGO DE LOS TSACHILAS   \n",
       "3   27  HOMBRE  ECUATORIANO                      TUNGURAHUA   \n",
       "4   33  HOMBRE   VENEZOLANO                          GUAYAS   \n",
       "\n",
       "                              presunta_subinfraccion  \\\n",
       "0  INCUMPLIMIENTO DE DECISIONES LEGÍTIMAS DE AUTO...   \n",
       "1                                          SICARIATO   \n",
       "2                                          HOMICIDIO   \n",
       "3  VIOLENCIA FÍSICA CONTRA LA MUJER O MIEMBROS DE...   \n",
       "4  VIOLENCIA FÍSICA CONTRA LA MUJER O MIEMBROS DE...   \n",
       "\n",
       "  fecha_detencion_aprehension  \n",
       "0                  2022-01-13  \n",
       "1                  2022-01-13  \n",
       "2                  2022-01-27  \n",
       "3                  2022-02-26  \n",
       "4                  2022-04-18  "
      ]
     },
     "execution_count": 44,
     "metadata": {},
     "output_type": "execute_result"
    }
   ],
   "source": [
    "datos_2022.head(5)"
   ]
  },
  {
   "cell_type": "markdown",
   "metadata": {},
   "source": [
    "#### Renombramiento de columnas"
   ]
  },
  {
   "cell_type": "code",
   "execution_count": 45,
   "metadata": {},
   "outputs": [
    {
     "data": {
      "text/html": [
       "<div>\n",
       "<style scoped>\n",
       "    .dataframe tbody tr th:only-of-type {\n",
       "        vertical-align: middle;\n",
       "    }\n",
       "\n",
       "    .dataframe tbody tr th {\n",
       "        vertical-align: top;\n",
       "    }\n",
       "\n",
       "    .dataframe thead th {\n",
       "        text-align: right;\n",
       "    }\n",
       "</style>\n",
       "<table border=\"1\" class=\"dataframe\">\n",
       "  <thead>\n",
       "    <tr style=\"text-align: right;\">\n",
       "      <th></th>\n",
       "      <th>edad</th>\n",
       "      <th>sexo</th>\n",
       "      <th>nacionalidad</th>\n",
       "      <th>provincia</th>\n",
       "      <th>presunta_subinfraccion</th>\n",
       "      <th>fecha_detencion</th>\n",
       "    </tr>\n",
       "  </thead>\n",
       "  <tbody>\n",
       "    <tr>\n",
       "      <th>0</th>\n",
       "      <td>39</td>\n",
       "      <td>MUJER</td>\n",
       "      <td>ECUATORIANO</td>\n",
       "      <td>PICHINCHA</td>\n",
       "      <td>INCUMPLIMIENTO DE DECISIONES LEGÍTIMAS DE AUTO...</td>\n",
       "      <td>2022-01-13</td>\n",
       "    </tr>\n",
       "    <tr>\n",
       "      <th>1</th>\n",
       "      <td>38</td>\n",
       "      <td>HOMBRE</td>\n",
       "      <td>ECUATORIANO</td>\n",
       "      <td>COTOPAXI</td>\n",
       "      <td>SICARIATO</td>\n",
       "      <td>2022-01-13</td>\n",
       "    </tr>\n",
       "    <tr>\n",
       "      <th>2</th>\n",
       "      <td>32</td>\n",
       "      <td>HOMBRE</td>\n",
       "      <td>ECUATORIANO</td>\n",
       "      <td>SANTO DOMINGO DE LOS TSACHILAS</td>\n",
       "      <td>HOMICIDIO</td>\n",
       "      <td>2022-01-27</td>\n",
       "    </tr>\n",
       "    <tr>\n",
       "      <th>3</th>\n",
       "      <td>27</td>\n",
       "      <td>HOMBRE</td>\n",
       "      <td>ECUATORIANO</td>\n",
       "      <td>TUNGURAHUA</td>\n",
       "      <td>VIOLENCIA FÍSICA CONTRA LA MUJER O MIEMBROS DE...</td>\n",
       "      <td>2022-02-26</td>\n",
       "    </tr>\n",
       "    <tr>\n",
       "      <th>4</th>\n",
       "      <td>33</td>\n",
       "      <td>HOMBRE</td>\n",
       "      <td>VENEZOLANO</td>\n",
       "      <td>GUAYAS</td>\n",
       "      <td>VIOLENCIA FÍSICA CONTRA LA MUJER O MIEMBROS DE...</td>\n",
       "      <td>2022-04-18</td>\n",
       "    </tr>\n",
       "  </tbody>\n",
       "</table>\n",
       "</div>"
      ],
      "text/plain": [
       "  edad    sexo nacionalidad                       provincia  \\\n",
       "0   39   MUJER  ECUATORIANO                       PICHINCHA   \n",
       "1   38  HOMBRE  ECUATORIANO                        COTOPAXI   \n",
       "2   32  HOMBRE  ECUATORIANO  SANTO DOMINGO DE LOS TSACHILAS   \n",
       "3   27  HOMBRE  ECUATORIANO                      TUNGURAHUA   \n",
       "4   33  HOMBRE   VENEZOLANO                          GUAYAS   \n",
       "\n",
       "                              presunta_subinfraccion fecha_detencion  \n",
       "0  INCUMPLIMIENTO DE DECISIONES LEGÍTIMAS DE AUTO...      2022-01-13  \n",
       "1                                          SICARIATO      2022-01-13  \n",
       "2                                          HOMICIDIO      2022-01-27  \n",
       "3  VIOLENCIA FÍSICA CONTRA LA MUJER O MIEMBROS DE...      2022-02-26  \n",
       "4  VIOLENCIA FÍSICA CONTRA LA MUJER O MIEMBROS DE...      2022-04-18  "
      ]
     },
     "execution_count": 45,
     "metadata": {},
     "output_type": "execute_result"
    }
   ],
   "source": [
    "datos_2022 = datos_2022.rename(columns={'fecha_detencion_aprehension': 'fecha_detencion', 'nombre_provincia': 'provincia'})\n",
    "\n",
    "datos_2022.head(5)"
   ]
  },
  {
   "cell_type": "markdown",
   "metadata": {},
   "source": [
    "#### Eliminación de inconsistencias (nulos, vacios, inconsistentes)"
   ]
  },
  {
   "cell_type": "code",
   "execution_count": 46,
   "metadata": {},
   "outputs": [
    {
     "data": {
      "text/plain": [
       "array([39, 38, 32, 27, 33, 23, 52, 25, 29, 'SIN DATO', 18, 37, 17, 21, 42,\n",
       "       19, 20, 24, 34, 22, 16, 48, 53, 26, 30, 36, 31, 28, 49, 45, 40, 54,\n",
       "       50, 47, 35, 55, 15, 60, 41, 43, 44, 46, 12, 56, 51, 58, 68, 61, 66,\n",
       "       57, 64, 62, 59, 80, 73, 69, 63, 14, 13, 85, 65, 72, 79, 70, 74, 67,\n",
       "       82, 78, 75, 77, 71, 86, 76, 83, 88, 94, 97, 84, 81, 87, 93, 118],\n",
       "      dtype=object)"
      ]
     },
     "execution_count": 46,
     "metadata": {},
     "output_type": "execute_result"
    }
   ],
   "source": [
    "datos_2022['edad'].unique()"
   ]
  },
  {
   "cell_type": "code",
   "execution_count": 47,
   "metadata": {},
   "outputs": [
    {
     "data": {
      "text/plain": [
       "array([39, 38, 32, 27, 33, 23, 52, 25, 29, 18, 37, 17, 21, 42, 19, 20, 24,\n",
       "       34, 22, 16, 48, 53, 26, 30, 36, 31, 28, 49, 45, 40, 54, 50, 47, 35,\n",
       "       55, 15, 60, 41, 43, 44, 46, 12, 56, 51, 58, 68, 61, 66, 57, 64, 62,\n",
       "       59, 80, 73, 69, 63, 14, 13, 85, 65, 72, 79, 70, 74, 67, 82, 78, 75,\n",
       "       77, 71, 86, 76, 83, 88, 94, 97, 84, 81, 87, 93, 118], dtype=object)"
      ]
     },
     "execution_count": 47,
     "metadata": {},
     "output_type": "execute_result"
    }
   ],
   "source": [
    "datos_2022 = datos_2022[datos_2022['edad'] != 'SIN DATO']\n",
    "datos_2022 = datos_2022[datos_2022['edad'] != '118']\n",
    "datos_2022['edad'].unique()"
   ]
  },
  {
   "cell_type": "code",
   "execution_count": 48,
   "metadata": {},
   "outputs": [
    {
     "data": {
      "text/plain": [
       "array(['ECUATORIANO', 'VENEZOLANO', 'COLOMBIANO', 'SE DESCONOCE',\n",
       "       'CAMERUNÉS', 'CUBANO', 'ESTADOUNIDENCE', 'BIELORUSO', 'HOLANDÉS',\n",
       "       'ARGENTINO', 'PERUANO', 'BOLIVIANO', 'YEMENÍ', 'CHINO', 'JORDANO',\n",
       "       'ECUATOGUINEANO', 'DOMINICANO', 'ITALIANO', 'RUSO', 'ALEMÁN',\n",
       "       'CHILENO', 'VATICANA', 'NIGERIANO', 'ESPAÑOL', 'GUATEMALTECO',\n",
       "       'SALVADOREÑO', 'PAPÚ', 'MEXICANO', 'CHADIANO', 'BRITÁNICO',\n",
       "       'BANGLADESÍ', 'FRANCÉS', 'URUGUAYO', 'LITUANO', 'BRASILEÑO',\n",
       "       'IRANÍ', 'PANAMEÑO', 'GRIEGO', 'PALESTINO', 'EGIPCIO', 'TOGOLÉS',\n",
       "       'UZBECO', 'SUIZO', 'INDIO/HINDÚ', 'SURCOREANO', 'HONDUREÑO',\n",
       "       'COSTARRICENSE', 'BELGA', 'SINGAPURENSE', 'RUMANO', 'MARFILEÑO',\n",
       "       'CABOVERDIANO', 'SIRIO', 'ISRAELÍ', 'SALOMONENSE', 'NEOZELANDÉS',\n",
       "       'LETONIO'], dtype=object)"
      ]
     },
     "execution_count": 48,
     "metadata": {},
     "output_type": "execute_result"
    }
   ],
   "source": [
    "datos_2022['nacionalidad'].unique()"
   ]
  },
  {
   "cell_type": "code",
   "execution_count": 49,
   "metadata": {},
   "outputs": [
    {
     "data": {
      "text/plain": [
       "array(['ECUATORIANO', 'VENEZOLANO', 'COLOMBIANO', 'CAMERUNÉS', 'CUBANO',\n",
       "       'ESTADOUNIDENCE', 'BIELORUSO', 'HOLANDÉS', 'ARGENTINO', 'PERUANO',\n",
       "       'BOLIVIANO', 'YEMENÍ', 'CHINO', 'JORDANO', 'ECUATOGUINEANO',\n",
       "       'DOMINICANO', 'ITALIANO', 'RUSO', 'ALEMÁN', 'CHILENO', 'VATICANA',\n",
       "       'NIGERIANO', 'ESPAÑOL', 'GUATEMALTECO', 'SALVADOREÑO', 'PAPÚ',\n",
       "       'MEXICANO', 'CHADIANO', 'BRITÁNICO', 'BANGLADESÍ', 'FRANCÉS',\n",
       "       'URUGUAYO', 'LITUANO', 'BRASILEÑO', 'IRANÍ', 'PANAMEÑO', 'GRIEGO',\n",
       "       'PALESTINO', 'EGIPCIO', 'TOGOLÉS', 'UZBECO', 'SUIZO',\n",
       "       'INDIO/HINDÚ', 'SURCOREANO', 'HONDUREÑO', 'COSTARRICENSE', 'BELGA',\n",
       "       'SINGAPURENSE', 'RUMANO', 'MARFILEÑO', 'CABOVERDIANO', 'SIRIO',\n",
       "       'ISRAELÍ', 'SALOMONENSE', 'NEOZELANDÉS', 'LETONIO'], dtype=object)"
      ]
     },
     "execution_count": 49,
     "metadata": {},
     "output_type": "execute_result"
    }
   ],
   "source": [
    "datos_2022 = datos_2022[datos_2022['nacionalidad'] != 'SE DESCONOCE']\n",
    "datos_2022['nacionalidad'].unique()"
   ]
  },
  {
   "cell_type": "code",
   "execution_count": 50,
   "metadata": {},
   "outputs": [
    {
     "data": {
      "text/plain": [
       "array(['PICHINCHA', 'COTOPAXI', 'SANTO DOMINGO DE LOS TSACHILAS',\n",
       "       'TUNGURAHUA', 'GUAYAS', 'MANABI', 'IMBABURA', 'AZUAY', 'CARCHI',\n",
       "       'LOJA', 'LOS RIOS', 'SUCUMBIOS', 'EL ORO', 'ESMERALDAS', 'PASTAZA',\n",
       "       'MORONA SANTIAGO', 'CHIMBORAZO', 'NAPO', 'ORELLANA', 'CAÑAR',\n",
       "       'BOLIVAR', 'GALAPAGOS', 'SANTA ELENA', 'ZAMORA CHINCHIPE',\n",
       "       'MAR TERRITORIAL'], dtype=object)"
      ]
     },
     "execution_count": 50,
     "metadata": {},
     "output_type": "execute_result"
    }
   ],
   "source": [
    "datos_2022['provincia'].unique()"
   ]
  },
  {
   "cell_type": "code",
   "execution_count": 51,
   "metadata": {},
   "outputs": [
    {
     "data": {
      "text/plain": [
       "array(['PICHINCHA', 'COTOPAXI', 'SANTO DOMINGO DE LOS TSACHILAS',\n",
       "       'TUNGURAHUA', 'GUAYAS', 'MANABI', 'IMBABURA', 'AZUAY', 'CARCHI',\n",
       "       'LOJA', 'LOS RIOS', 'SUCUMBIOS', 'EL ORO', 'ESMERALDAS', 'PASTAZA',\n",
       "       'MORONA SANTIAGO', 'CHIMBORAZO', 'NAPO', 'ORELLANA', 'CAÑAR',\n",
       "       'BOLIVAR', 'GALAPAGOS', 'SANTA ELENA', 'ZAMORA CHINCHIPE'],\n",
       "      dtype=object)"
      ]
     },
     "execution_count": 51,
     "metadata": {},
     "output_type": "execute_result"
    }
   ],
   "source": [
    "datos_2022 = datos_2022[datos_2022['provincia'] != 'MAR TERRITORIAL']\n",
    "datos_2022['provincia'].unique()"
   ]
  },
  {
   "cell_type": "markdown",
   "metadata": {},
   "source": [
    "# 2021"
   ]
  },
  {
   "cell_type": "code",
   "execution_count": 52,
   "metadata": {},
   "outputs": [],
   "source": [
    "datos_2021 = pd.read_excel(excel_file, sheet_name=\"2021\")"
   ]
  },
  {
   "cell_type": "markdown",
   "metadata": {},
   "source": [
    "#### Eliminación de columnas que no se utilizarán"
   ]
  },
  {
   "cell_type": "code",
   "execution_count": 53,
   "metadata": {},
   "outputs": [
    {
     "data": {
      "text/plain": [
       "Index(['Zona', 'Subzona', 'Cantón', 'presunta_subinfraccion',\n",
       "       'Fecha de Detención', 'Sexo', 'Edad', 'Nacionalidad'],\n",
       "      dtype='object')"
      ]
     },
     "execution_count": 53,
     "metadata": {},
     "output_type": "execute_result"
    }
   ],
   "source": [
    "datos_2021.columns"
   ]
  },
  {
   "cell_type": "code",
   "execution_count": 54,
   "metadata": {},
   "outputs": [],
   "source": [
    "datos_2021 = datos_2021.drop(columns=['Zona', 'Cantón'])"
   ]
  },
  {
   "cell_type": "code",
   "execution_count": 55,
   "metadata": {},
   "outputs": [
    {
     "data": {
      "text/html": [
       "<div>\n",
       "<style scoped>\n",
       "    .dataframe tbody tr th:only-of-type {\n",
       "        vertical-align: middle;\n",
       "    }\n",
       "\n",
       "    .dataframe tbody tr th {\n",
       "        vertical-align: top;\n",
       "    }\n",
       "\n",
       "    .dataframe thead th {\n",
       "        text-align: right;\n",
       "    }\n",
       "</style>\n",
       "<table border=\"1\" class=\"dataframe\">\n",
       "  <thead>\n",
       "    <tr style=\"text-align: right;\">\n",
       "      <th></th>\n",
       "      <th>Subzona</th>\n",
       "      <th>presunta_subinfraccion</th>\n",
       "      <th>Fecha de Detención</th>\n",
       "      <th>Sexo</th>\n",
       "      <th>Edad</th>\n",
       "      <th>Nacionalidad</th>\n",
       "    </tr>\n",
       "  </thead>\n",
       "  <tbody>\n",
       "    <tr>\n",
       "      <th>0</th>\n",
       "      <td>EL ORO</td>\n",
       "      <td>INCUMPLIMIENTO DE DECISIONES LEGÍTIMAS DE AUTO...</td>\n",
       "      <td>2021-07-24</td>\n",
       "      <td>HOMBRE</td>\n",
       "      <td>27</td>\n",
       "      <td>ECUATORIANO</td>\n",
       "    </tr>\n",
       "    <tr>\n",
       "      <th>1</th>\n",
       "      <td>GUAYAS</td>\n",
       "      <td>ASESINATO</td>\n",
       "      <td>2021-07-10</td>\n",
       "      <td>HOMBRE</td>\n",
       "      <td>31</td>\n",
       "      <td>ECUATORIANO</td>\n",
       "    </tr>\n",
       "    <tr>\n",
       "      <th>2</th>\n",
       "      <td>DMQ</td>\n",
       "      <td>VIOLENCIA FÍSICA CONTRA LA MUJER O MIEMBROS DE...</td>\n",
       "      <td>2021-03-26</td>\n",
       "      <td>HOMBRE</td>\n",
       "      <td>31</td>\n",
       "      <td>ECUATORIANO</td>\n",
       "    </tr>\n",
       "    <tr>\n",
       "      <th>3</th>\n",
       "      <td>EL ORO</td>\n",
       "      <td>VIOLENCIA FÍSICA CONTRA LA MUJER O MIEMBROS DE...</td>\n",
       "      <td>2021-08-11</td>\n",
       "      <td>HOMBRE</td>\n",
       "      <td>21</td>\n",
       "      <td>VENEZOLANO</td>\n",
       "    </tr>\n",
       "    <tr>\n",
       "      <th>4</th>\n",
       "      <td>LOS RIOS</td>\n",
       "      <td>EXTORSIÓN</td>\n",
       "      <td>2021-05-27</td>\n",
       "      <td>HOMBRE</td>\n",
       "      <td>42</td>\n",
       "      <td>ECUATORIANO</td>\n",
       "    </tr>\n",
       "  </tbody>\n",
       "</table>\n",
       "</div>"
      ],
      "text/plain": [
       "    Subzona                             presunta_subinfraccion  \\\n",
       "0    EL ORO  INCUMPLIMIENTO DE DECISIONES LEGÍTIMAS DE AUTO...   \n",
       "1    GUAYAS                                          ASESINATO   \n",
       "2       DMQ  VIOLENCIA FÍSICA CONTRA LA MUJER O MIEMBROS DE...   \n",
       "3    EL ORO  VIOLENCIA FÍSICA CONTRA LA MUJER O MIEMBROS DE...   \n",
       "4  LOS RIOS                                          EXTORSIÓN   \n",
       "\n",
       "  Fecha de Detención    Sexo Edad Nacionalidad  \n",
       "0         2021-07-24  HOMBRE   27  ECUATORIANO  \n",
       "1         2021-07-10  HOMBRE   31  ECUATORIANO  \n",
       "2         2021-03-26  HOMBRE   31  ECUATORIANO  \n",
       "3         2021-08-11  HOMBRE   21   VENEZOLANO  \n",
       "4         2021-05-27  HOMBRE   42  ECUATORIANO  "
      ]
     },
     "execution_count": 55,
     "metadata": {},
     "output_type": "execute_result"
    }
   ],
   "source": [
    "datos_2021.head(5)"
   ]
  },
  {
   "cell_type": "markdown",
   "metadata": {},
   "source": [
    "#### Renombramiento de columnas"
   ]
  },
  {
   "cell_type": "code",
   "execution_count": 56,
   "metadata": {},
   "outputs": [
    {
     "data": {
      "text/html": [
       "<div>\n",
       "<style scoped>\n",
       "    .dataframe tbody tr th:only-of-type {\n",
       "        vertical-align: middle;\n",
       "    }\n",
       "\n",
       "    .dataframe tbody tr th {\n",
       "        vertical-align: top;\n",
       "    }\n",
       "\n",
       "    .dataframe thead th {\n",
       "        text-align: right;\n",
       "    }\n",
       "</style>\n",
       "<table border=\"1\" class=\"dataframe\">\n",
       "  <thead>\n",
       "    <tr style=\"text-align: right;\">\n",
       "      <th></th>\n",
       "      <th>provincia</th>\n",
       "      <th>presunta_subinfraccion</th>\n",
       "      <th>fecha_detencion</th>\n",
       "      <th>sexo</th>\n",
       "      <th>edad</th>\n",
       "      <th>nacionalidad</th>\n",
       "    </tr>\n",
       "  </thead>\n",
       "  <tbody>\n",
       "    <tr>\n",
       "      <th>0</th>\n",
       "      <td>EL ORO</td>\n",
       "      <td>INCUMPLIMIENTO DE DECISIONES LEGÍTIMAS DE AUTO...</td>\n",
       "      <td>2021-07-24</td>\n",
       "      <td>HOMBRE</td>\n",
       "      <td>27</td>\n",
       "      <td>ECUATORIANO</td>\n",
       "    </tr>\n",
       "    <tr>\n",
       "      <th>1</th>\n",
       "      <td>GUAYAS</td>\n",
       "      <td>ASESINATO</td>\n",
       "      <td>2021-07-10</td>\n",
       "      <td>HOMBRE</td>\n",
       "      <td>31</td>\n",
       "      <td>ECUATORIANO</td>\n",
       "    </tr>\n",
       "    <tr>\n",
       "      <th>2</th>\n",
       "      <td>DMQ</td>\n",
       "      <td>VIOLENCIA FÍSICA CONTRA LA MUJER O MIEMBROS DE...</td>\n",
       "      <td>2021-03-26</td>\n",
       "      <td>HOMBRE</td>\n",
       "      <td>31</td>\n",
       "      <td>ECUATORIANO</td>\n",
       "    </tr>\n",
       "    <tr>\n",
       "      <th>3</th>\n",
       "      <td>EL ORO</td>\n",
       "      <td>VIOLENCIA FÍSICA CONTRA LA MUJER O MIEMBROS DE...</td>\n",
       "      <td>2021-08-11</td>\n",
       "      <td>HOMBRE</td>\n",
       "      <td>21</td>\n",
       "      <td>VENEZOLANO</td>\n",
       "    </tr>\n",
       "    <tr>\n",
       "      <th>4</th>\n",
       "      <td>LOS RIOS</td>\n",
       "      <td>EXTORSIÓN</td>\n",
       "      <td>2021-05-27</td>\n",
       "      <td>HOMBRE</td>\n",
       "      <td>42</td>\n",
       "      <td>ECUATORIANO</td>\n",
       "    </tr>\n",
       "  </tbody>\n",
       "</table>\n",
       "</div>"
      ],
      "text/plain": [
       "  provincia                             presunta_subinfraccion  \\\n",
       "0    EL ORO  INCUMPLIMIENTO DE DECISIONES LEGÍTIMAS DE AUTO...   \n",
       "1    GUAYAS                                          ASESINATO   \n",
       "2       DMQ  VIOLENCIA FÍSICA CONTRA LA MUJER O MIEMBROS DE...   \n",
       "3    EL ORO  VIOLENCIA FÍSICA CONTRA LA MUJER O MIEMBROS DE...   \n",
       "4  LOS RIOS                                          EXTORSIÓN   \n",
       "\n",
       "  fecha_detencion    sexo edad nacionalidad  \n",
       "0      2021-07-24  HOMBRE   27  ECUATORIANO  \n",
       "1      2021-07-10  HOMBRE   31  ECUATORIANO  \n",
       "2      2021-03-26  HOMBRE   31  ECUATORIANO  \n",
       "3      2021-08-11  HOMBRE   21   VENEZOLANO  \n",
       "4      2021-05-27  HOMBRE   42  ECUATORIANO  "
      ]
     },
     "execution_count": 56,
     "metadata": {},
     "output_type": "execute_result"
    }
   ],
   "source": [
    "datos_2021 = datos_2021.rename(columns={'Fecha de Detención': 'fecha_detencion', 'Subzona': 'provincia', \"Sexo\": \"sexo\", \n",
    "                                        \"Edad\":\"edad\", \"Nacionalidad\":\"nacionalidad\"})\n",
    "\n",
    "datos_2021.head(5)"
   ]
  },
  {
   "cell_type": "markdown",
   "metadata": {},
   "source": [
    "#### Eliminación de inconsistencias (nulos, vacios, inconsistentes)"
   ]
  },
  {
   "cell_type": "code",
   "execution_count": 57,
   "metadata": {},
   "outputs": [
    {
     "data": {
      "text/plain": [
       "array([27, 31, 21, 42, 23, 25, 15, 30, 17, 36, 43, 26, 24, 28, 37, 20, 57,\n",
       "       22, 33, 'SIN DATO', 41, 29, 34, 18, 35, 47, 39, 40, 45, 38, 19, 44,\n",
       "       49, 48, 62, 50, 32, 51, 75, 54, 77, 53, 60, 52, 56, 64, 59, 46, 61,\n",
       "       55, 67, 69, 13, 58, 63, 14, 72, 76, 86, 73, 16, 66, 68, 79, 71, 84,\n",
       "       12, 65, 70, 11, 91, 78, 81, 80, 74, 83, 82, 87, 85, 89, 90, 88, 92,\n",
       "       95], dtype=object)"
      ]
     },
     "execution_count": 57,
     "metadata": {},
     "output_type": "execute_result"
    }
   ],
   "source": [
    "datos_2021['edad'].unique()"
   ]
  },
  {
   "cell_type": "code",
   "execution_count": 58,
   "metadata": {},
   "outputs": [
    {
     "data": {
      "text/plain": [
       "array([27, 31, 21, 42, 23, 25, 15, 30, 17, 36, 43, 26, 24, 28, 37, 20, 57,\n",
       "       22, 33, 41, 29, 34, 18, 35, 47, 39, 40, 45, 38, 19, 44, 49, 48, 62,\n",
       "       50, 32, 51, 75, 54, 77, 53, 60, 52, 56, 64, 59, 46, 61, 55, 67, 69,\n",
       "       13, 58, 63, 14, 72, 76, 86, 73, 16, 66, 68, 79, 71, 84, 12, 65, 70,\n",
       "       11, 91, 78, 81, 80, 74, 83, 82, 87, 85, 89, 90, 88, 92, 95],\n",
       "      dtype=object)"
      ]
     },
     "execution_count": 58,
     "metadata": {},
     "output_type": "execute_result"
    }
   ],
   "source": [
    "datos_2021 = datos_2021[datos_2021['edad'] != 'SIN DATO']\n",
    "datos_2021['edad'].unique()"
   ]
  },
  {
   "cell_type": "code",
   "execution_count": 59,
   "metadata": {},
   "outputs": [
    {
     "data": {
      "text/plain": [
       "array(['ECUATORIANO', 'VENEZOLANO', 'COLOMBIANO', 'ESPAÑOL', 'RUMANO',\n",
       "       'INDIO/HINDÚ', 'CUBANO', 'ARGELINO', 'PERUANO', 'ESTADOUNIDENCE',\n",
       "       'BRASILEÑO', 'ITALIANO', 'BOLIVIANO', 'MEXICANO', 'VATICANA',\n",
       "       'SE DESCONOCE', 'PARAGUAYO', 'SIRIO', 'PORTUGUÉS', 'CHINO',\n",
       "       'CHILENO', 'EGIPCIO', 'ECUATOGUINEANO', 'PAPÚ', 'BANGLADESÍ',\n",
       "       'SURCOREANO', 'DOMINICANO', 'RUSO', 'ARGENTINO', 'BRITÁNICO',\n",
       "       'CEILANDÉS', 'NORUEGO', 'TURCO', 'SUIZO', 'LIBIO', 'FRANCÉS',\n",
       "       'GUINEANO', 'NIGERIANO', 'HOLANDÉS', 'PANAMEÑO', 'CAMERUNÉS',\n",
       "       'IRANÍ', 'GRIEGO', 'UCRANIANO', 'TAYIKA', 'JORDANO', 'ALEMÁN',\n",
       "       'NICARAGUENSE', 'URUGUAYO', 'BELGA', 'MOLDAVO', 'HONDUREÑO',\n",
       "       'BISAUGINEANO', 'IRLANDÉS', 'SIERRALEONÉS', 'GUATEMALTECO',\n",
       "       'YEMENÍ', 'CAMBOYANO'], dtype=object)"
      ]
     },
     "execution_count": 59,
     "metadata": {},
     "output_type": "execute_result"
    }
   ],
   "source": [
    "datos_2021['nacionalidad'].unique()"
   ]
  },
  {
   "cell_type": "code",
   "execution_count": 60,
   "metadata": {},
   "outputs": [
    {
     "data": {
      "text/plain": [
       "array(['ECUATORIANO', 'VENEZOLANO', 'COLOMBIANO', 'ESPAÑOL', 'RUMANO',\n",
       "       'INDIO/HINDÚ', 'CUBANO', 'ARGELINO', 'PERUANO', 'ESTADOUNIDENCE',\n",
       "       'BRASILEÑO', 'ITALIANO', 'BOLIVIANO', 'MEXICANO', 'VATICANA',\n",
       "       'PARAGUAYO', 'SIRIO', 'PORTUGUÉS', 'CHINO', 'CHILENO', 'EGIPCIO',\n",
       "       'ECUATOGUINEANO', 'PAPÚ', 'BANGLADESÍ', 'SURCOREANO', 'DOMINICANO',\n",
       "       'RUSO', 'ARGENTINO', 'BRITÁNICO', 'CEILANDÉS', 'NORUEGO', 'TURCO',\n",
       "       'SUIZO', 'LIBIO', 'FRANCÉS', 'GUINEANO', 'NIGERIANO', 'HOLANDÉS',\n",
       "       'PANAMEÑO', 'CAMERUNÉS', 'IRANÍ', 'GRIEGO', 'UCRANIANO', 'TAYIKA',\n",
       "       'JORDANO', 'ALEMÁN', 'NICARAGUENSE', 'URUGUAYO', 'BELGA',\n",
       "       'MOLDAVO', 'HONDUREÑO', 'BISAUGINEANO', 'IRLANDÉS', 'SIERRALEONÉS',\n",
       "       'GUATEMALTECO', 'YEMENÍ', 'CAMBOYANO'], dtype=object)"
      ]
     },
     "execution_count": 60,
     "metadata": {},
     "output_type": "execute_result"
    }
   ],
   "source": [
    "datos_2021 = datos_2021[datos_2021['nacionalidad'] != 'SE DESCONOCE']\n",
    "datos_2021['nacionalidad'].unique()"
   ]
  },
  {
   "cell_type": "code",
   "execution_count": 61,
   "metadata": {},
   "outputs": [
    {
     "data": {
      "text/plain": [
       "array(['EL ORO', 'GUAYAS', 'DMQ', 'LOS RIOS', 'DMG', 'MANABI',\n",
       "       'SANTO DOMINGO DE LOS TSACHILAS', 'TUNGURAHUA', 'CARCHI',\n",
       "       'IMBABURA', 'PICHINCHA', 'AZUAY', 'ESMERALDAS', 'MORONA SANTIAGO',\n",
       "       'LOJA', 'GALAPAGOS', 'CHIMBORAZO', 'PASTAZA', 'BOLIVAR',\n",
       "       'ZAMORA CHINCHIPE', 'ORELLANA', 'SANTA ELENA', 'COTOPAXI',\n",
       "       'SUCUMBIOS', 'CAÑAR', 'NAPO', 'MAR TERRITORIAL'], dtype=object)"
      ]
     },
     "execution_count": 61,
     "metadata": {},
     "output_type": "execute_result"
    }
   ],
   "source": [
    "datos_2021['provincia'].unique()"
   ]
  },
  {
   "cell_type": "code",
   "execution_count": 62,
   "metadata": {},
   "outputs": [
    {
     "data": {
      "text/plain": [
       "array(['EL ORO', 'GUAYAS', 'DMQ', 'LOS RIOS', 'DMG', 'MANABI',\n",
       "       'SANTO DOMINGO DE LOS TSACHILAS', 'TUNGURAHUA', 'CARCHI',\n",
       "       'IMBABURA', 'PICHINCHA', 'AZUAY', 'ESMERALDAS', 'MORONA SANTIAGO',\n",
       "       'LOJA', 'GALAPAGOS', 'CHIMBORAZO', 'PASTAZA', 'BOLIVAR',\n",
       "       'ZAMORA CHINCHIPE', 'ORELLANA', 'SANTA ELENA', 'COTOPAXI',\n",
       "       'SUCUMBIOS', 'CAÑAR', 'NAPO'], dtype=object)"
      ]
     },
     "execution_count": 62,
     "metadata": {},
     "output_type": "execute_result"
    }
   ],
   "source": [
    "datos_2021 = datos_2021[datos_2021['provincia'] != 'MAR TERRITORIAL']\n",
    "datos_2021['provincia'].unique()"
   ]
  },
  {
   "cell_type": "code",
   "execution_count": 63,
   "metadata": {},
   "outputs": [
    {
     "data": {
      "text/html": [
       "<div>\n",
       "<style scoped>\n",
       "    .dataframe tbody tr th:only-of-type {\n",
       "        vertical-align: middle;\n",
       "    }\n",
       "\n",
       "    .dataframe tbody tr th {\n",
       "        vertical-align: top;\n",
       "    }\n",
       "\n",
       "    .dataframe thead th {\n",
       "        text-align: right;\n",
       "    }\n",
       "</style>\n",
       "<table border=\"1\" class=\"dataframe\">\n",
       "  <thead>\n",
       "    <tr style=\"text-align: right;\">\n",
       "      <th></th>\n",
       "      <th>provincia</th>\n",
       "      <th>presunta_subinfraccion</th>\n",
       "      <th>fecha_detencion</th>\n",
       "      <th>sexo</th>\n",
       "      <th>edad</th>\n",
       "      <th>nacionalidad</th>\n",
       "    </tr>\n",
       "  </thead>\n",
       "  <tbody>\n",
       "    <tr>\n",
       "      <th>0</th>\n",
       "      <td>EL ORO</td>\n",
       "      <td>INCUMPLIMIENTO DE DECISIONES LEGÍTIMAS DE AUTO...</td>\n",
       "      <td>2021-07-24</td>\n",
       "      <td>HOMBRE</td>\n",
       "      <td>27</td>\n",
       "      <td>ECUATORIANO</td>\n",
       "    </tr>\n",
       "    <tr>\n",
       "      <th>1</th>\n",
       "      <td>GUAYAS</td>\n",
       "      <td>ASESINATO</td>\n",
       "      <td>2021-07-10</td>\n",
       "      <td>HOMBRE</td>\n",
       "      <td>31</td>\n",
       "      <td>ECUATORIANO</td>\n",
       "    </tr>\n",
       "    <tr>\n",
       "      <th>2</th>\n",
       "      <td>PICHINCHA</td>\n",
       "      <td>VIOLENCIA FÍSICA CONTRA LA MUJER O MIEMBROS DE...</td>\n",
       "      <td>2021-03-26</td>\n",
       "      <td>HOMBRE</td>\n",
       "      <td>31</td>\n",
       "      <td>ECUATORIANO</td>\n",
       "    </tr>\n",
       "    <tr>\n",
       "      <th>3</th>\n",
       "      <td>EL ORO</td>\n",
       "      <td>VIOLENCIA FÍSICA CONTRA LA MUJER O MIEMBROS DE...</td>\n",
       "      <td>2021-08-11</td>\n",
       "      <td>HOMBRE</td>\n",
       "      <td>21</td>\n",
       "      <td>VENEZOLANO</td>\n",
       "    </tr>\n",
       "    <tr>\n",
       "      <th>4</th>\n",
       "      <td>LOS RIOS</td>\n",
       "      <td>EXTORSIÓN</td>\n",
       "      <td>2021-05-27</td>\n",
       "      <td>HOMBRE</td>\n",
       "      <td>42</td>\n",
       "      <td>ECUATORIANO</td>\n",
       "    </tr>\n",
       "    <tr>\n",
       "      <th>5</th>\n",
       "      <td>PICHINCHA</td>\n",
       "      <td>ROBO A PERSONAS</td>\n",
       "      <td>2021-02-05</td>\n",
       "      <td>HOMBRE</td>\n",
       "      <td>23</td>\n",
       "      <td>ECUATORIANO</td>\n",
       "    </tr>\n",
       "    <tr>\n",
       "      <th>6</th>\n",
       "      <td>GUAYAS</td>\n",
       "      <td>ROBO A PERSONAS</td>\n",
       "      <td>2021-11-19</td>\n",
       "      <td>HOMBRE</td>\n",
       "      <td>25</td>\n",
       "      <td>ECUATORIANO</td>\n",
       "    </tr>\n",
       "    <tr>\n",
       "      <th>7</th>\n",
       "      <td>GUAYAS</td>\n",
       "      <td>ROBO A PERSONAS</td>\n",
       "      <td>2021-11-19</td>\n",
       "      <td>HOMBRE</td>\n",
       "      <td>15</td>\n",
       "      <td>ECUATORIANO</td>\n",
       "    </tr>\n",
       "    <tr>\n",
       "      <th>8</th>\n",
       "      <td>PICHINCHA</td>\n",
       "      <td>ROBO DE MOTOS</td>\n",
       "      <td>2021-09-06</td>\n",
       "      <td>HOMBRE</td>\n",
       "      <td>21</td>\n",
       "      <td>ECUATORIANO</td>\n",
       "    </tr>\n",
       "    <tr>\n",
       "      <th>9</th>\n",
       "      <td>PICHINCHA</td>\n",
       "      <td>ROBO DE MOTOS</td>\n",
       "      <td>2021-09-06</td>\n",
       "      <td>HOMBRE</td>\n",
       "      <td>30</td>\n",
       "      <td>ECUATORIANO</td>\n",
       "    </tr>\n",
       "  </tbody>\n",
       "</table>\n",
       "</div>"
      ],
      "text/plain": [
       "   provincia                             presunta_subinfraccion  \\\n",
       "0     EL ORO  INCUMPLIMIENTO DE DECISIONES LEGÍTIMAS DE AUTO...   \n",
       "1     GUAYAS                                          ASESINATO   \n",
       "2  PICHINCHA  VIOLENCIA FÍSICA CONTRA LA MUJER O MIEMBROS DE...   \n",
       "3     EL ORO  VIOLENCIA FÍSICA CONTRA LA MUJER O MIEMBROS DE...   \n",
       "4   LOS RIOS                                          EXTORSIÓN   \n",
       "5  PICHINCHA                                    ROBO A PERSONAS   \n",
       "6     GUAYAS                                    ROBO A PERSONAS   \n",
       "7     GUAYAS                                    ROBO A PERSONAS   \n",
       "8  PICHINCHA                                      ROBO DE MOTOS   \n",
       "9  PICHINCHA                                      ROBO DE MOTOS   \n",
       "\n",
       "  fecha_detencion    sexo edad nacionalidad  \n",
       "0      2021-07-24  HOMBRE   27  ECUATORIANO  \n",
       "1      2021-07-10  HOMBRE   31  ECUATORIANO  \n",
       "2      2021-03-26  HOMBRE   31  ECUATORIANO  \n",
       "3      2021-08-11  HOMBRE   21   VENEZOLANO  \n",
       "4      2021-05-27  HOMBRE   42  ECUATORIANO  \n",
       "5      2021-02-05  HOMBRE   23  ECUATORIANO  \n",
       "6      2021-11-19  HOMBRE   25  ECUATORIANO  \n",
       "7      2021-11-19  HOMBRE   15  ECUATORIANO  \n",
       "8      2021-09-06  HOMBRE   21  ECUATORIANO  \n",
       "9      2021-09-06  HOMBRE   30  ECUATORIANO  "
      ]
     },
     "execution_count": 63,
     "metadata": {},
     "output_type": "execute_result"
    }
   ],
   "source": [
    "datos_2021['provincia'] = datos_2021['provincia'].replace({'DMQ': 'PICHINCHA', 'DMG': 'GUAYAS'})\n",
    "datos_2021.head(10)"
   ]
  },
  {
   "cell_type": "markdown",
   "metadata": {},
   "source": [
    "# 2020"
   ]
  },
  {
   "cell_type": "code",
   "execution_count": 64,
   "metadata": {},
   "outputs": [],
   "source": [
    "datos_2020 = pd.read_excel(excel_file, sheet_name=\"2020\")"
   ]
  },
  {
   "cell_type": "markdown",
   "metadata": {},
   "source": [
    "#### Eliminación de columnas que no se utilizarán"
   ]
  },
  {
   "cell_type": "code",
   "execution_count": 65,
   "metadata": {},
   "outputs": [
    {
     "data": {
      "text/html": [
       "<div>\n",
       "<style scoped>\n",
       "    .dataframe tbody tr th:only-of-type {\n",
       "        vertical-align: middle;\n",
       "    }\n",
       "\n",
       "    .dataframe tbody tr th {\n",
       "        vertical-align: top;\n",
       "    }\n",
       "\n",
       "    .dataframe thead th {\n",
       "        text-align: right;\n",
       "    }\n",
       "</style>\n",
       "<table border=\"1\" class=\"dataframe\">\n",
       "  <thead>\n",
       "    <tr style=\"text-align: right;\">\n",
       "      <th></th>\n",
       "      <th>Zona</th>\n",
       "      <th>Subzona</th>\n",
       "      <th>Cantón</th>\n",
       "      <th>presunta_subinfraccion</th>\n",
       "      <th>Fecha de Detención</th>\n",
       "      <th>Sexo</th>\n",
       "      <th>Edad</th>\n",
       "      <th>Nacionalidad</th>\n",
       "    </tr>\n",
       "  </thead>\n",
       "  <tbody>\n",
       "    <tr>\n",
       "      <th>0</th>\n",
       "      <td>ZONA 5</td>\n",
       "      <td>LOS RIOS</td>\n",
       "      <td>QUEVEDO</td>\n",
       "      <td>LESIONES</td>\n",
       "      <td>2020-10-19</td>\n",
       "      <td>HOMBRE</td>\n",
       "      <td>SIN DATO</td>\n",
       "      <td>VENEZOLANO</td>\n",
       "    </tr>\n",
       "    <tr>\n",
       "      <th>1</th>\n",
       "      <td>ZONA 9</td>\n",
       "      <td>DMQ</td>\n",
       "      <td>QUITO</td>\n",
       "      <td>ROBO A PERSONAS</td>\n",
       "      <td>2020-07-22</td>\n",
       "      <td>HOMBRE</td>\n",
       "      <td>23</td>\n",
       "      <td>VENEZOLANO</td>\n",
       "    </tr>\n",
       "    <tr>\n",
       "      <th>2</th>\n",
       "      <td>ZONA 7</td>\n",
       "      <td>ZAMORA CHINCHIPE</td>\n",
       "      <td>CHINCHIPE</td>\n",
       "      <td>VIOLENCIA CONTRA LA MUJER O MIEMBROS DEL NÚCLE...</td>\n",
       "      <td>2020-01-25</td>\n",
       "      <td>HOMBRE</td>\n",
       "      <td>23</td>\n",
       "      <td>ECUATORIANO</td>\n",
       "    </tr>\n",
       "    <tr>\n",
       "      <th>3</th>\n",
       "      <td>ZONA 7</td>\n",
       "      <td>LOJA</td>\n",
       "      <td>CATAMAYO</td>\n",
       "      <td>BOLETA DE APREMIO</td>\n",
       "      <td>2020-11-12</td>\n",
       "      <td>HOMBRE</td>\n",
       "      <td>30</td>\n",
       "      <td>ECUATORIANO</td>\n",
       "    </tr>\n",
       "    <tr>\n",
       "      <th>4</th>\n",
       "      <td>ZONA 8</td>\n",
       "      <td>DMG</td>\n",
       "      <td>GUAYAQUIL</td>\n",
       "      <td>CONTRAVENCIONES DE SEGUNDA CLASE</td>\n",
       "      <td>2020-03-01</td>\n",
       "      <td>MUJER</td>\n",
       "      <td>37</td>\n",
       "      <td>ECUATORIANO</td>\n",
       "    </tr>\n",
       "    <tr>\n",
       "      <th>5</th>\n",
       "      <td>ZONA 3</td>\n",
       "      <td>TUNGURAHUA</td>\n",
       "      <td>AMBATO</td>\n",
       "      <td>BOLETA DE AUXILIO</td>\n",
       "      <td>2020-10-29</td>\n",
       "      <td>HOMBRE</td>\n",
       "      <td>31</td>\n",
       "      <td>ECUATORIANO</td>\n",
       "    </tr>\n",
       "    <tr>\n",
       "      <th>6</th>\n",
       "      <td>ZONA 9</td>\n",
       "      <td>DMQ</td>\n",
       "      <td>QUITO</td>\n",
       "      <td>TRÁFICO ILÍCITO DE SUSTANCIAS CATALOGADAS SUJE...</td>\n",
       "      <td>2020-06-25</td>\n",
       "      <td>HOMBRE</td>\n",
       "      <td>23</td>\n",
       "      <td>ECUATORIANO</td>\n",
       "    </tr>\n",
       "    <tr>\n",
       "      <th>7</th>\n",
       "      <td>ZONA 7</td>\n",
       "      <td>LOJA</td>\n",
       "      <td>LOJA</td>\n",
       "      <td>ABUSO DE CONFIANZA</td>\n",
       "      <td>2020-09-03</td>\n",
       "      <td>HOMBRE</td>\n",
       "      <td>39</td>\n",
       "      <td>ECUATORIANO</td>\n",
       "    </tr>\n",
       "    <tr>\n",
       "      <th>8</th>\n",
       "      <td>ZONA 6</td>\n",
       "      <td>AZUAY</td>\n",
       "      <td>CUENCA</td>\n",
       "      <td>ROBO DE BIENES, ACCESORIO Y AUTOPARTES DE VEHÍ...</td>\n",
       "      <td>2020-02-22</td>\n",
       "      <td>HOMBRE</td>\n",
       "      <td>40</td>\n",
       "      <td>ECUATORIANO</td>\n",
       "    </tr>\n",
       "    <tr>\n",
       "      <th>9</th>\n",
       "      <td>ZONA 1</td>\n",
       "      <td>ESMERALDAS</td>\n",
       "      <td>QUININDE</td>\n",
       "      <td>CONTRAVENCIONES DE TRÁNSITO DE PRIMERA CLASE</td>\n",
       "      <td>2020-08-14</td>\n",
       "      <td>HOMBRE</td>\n",
       "      <td>23</td>\n",
       "      <td>ECUATORIANO</td>\n",
       "    </tr>\n",
       "  </tbody>\n",
       "</table>\n",
       "</div>"
      ],
      "text/plain": [
       "     Zona           Subzona     Cantón  \\\n",
       "0  ZONA 5          LOS RIOS    QUEVEDO   \n",
       "1  ZONA 9               DMQ      QUITO   \n",
       "2  ZONA 7  ZAMORA CHINCHIPE  CHINCHIPE   \n",
       "3  ZONA 7              LOJA   CATAMAYO   \n",
       "4  ZONA 8               DMG  GUAYAQUIL   \n",
       "5  ZONA 3        TUNGURAHUA     AMBATO   \n",
       "6  ZONA 9               DMQ      QUITO   \n",
       "7  ZONA 7              LOJA       LOJA   \n",
       "8  ZONA 6             AZUAY     CUENCA   \n",
       "9  ZONA 1        ESMERALDAS   QUININDE   \n",
       "\n",
       "                              presunta_subinfraccion Fecha de Detención  \\\n",
       "0                                           LESIONES         2020-10-19   \n",
       "1                                    ROBO A PERSONAS         2020-07-22   \n",
       "2  VIOLENCIA CONTRA LA MUJER O MIEMBROS DEL NÚCLE...         2020-01-25   \n",
       "3                                  BOLETA DE APREMIO         2020-11-12   \n",
       "4                   CONTRAVENCIONES DE SEGUNDA CLASE         2020-03-01   \n",
       "5                                  BOLETA DE AUXILIO         2020-10-29   \n",
       "6  TRÁFICO ILÍCITO DE SUSTANCIAS CATALOGADAS SUJE...         2020-06-25   \n",
       "7                                 ABUSO DE CONFIANZA         2020-09-03   \n",
       "8  ROBO DE BIENES, ACCESORIO Y AUTOPARTES DE VEHÍ...         2020-02-22   \n",
       "9       CONTRAVENCIONES DE TRÁNSITO DE PRIMERA CLASE         2020-08-14   \n",
       "\n",
       "     Sexo      Edad Nacionalidad  \n",
       "0  HOMBRE  SIN DATO   VENEZOLANO  \n",
       "1  HOMBRE        23   VENEZOLANO  \n",
       "2  HOMBRE        23  ECUATORIANO  \n",
       "3  HOMBRE        30  ECUATORIANO  \n",
       "4   MUJER        37  ECUATORIANO  \n",
       "5  HOMBRE        31  ECUATORIANO  \n",
       "6  HOMBRE        23  ECUATORIANO  \n",
       "7  HOMBRE        39  ECUATORIANO  \n",
       "8  HOMBRE        40  ECUATORIANO  \n",
       "9  HOMBRE        23  ECUATORIANO  "
      ]
     },
     "execution_count": 65,
     "metadata": {},
     "output_type": "execute_result"
    }
   ],
   "source": [
    "datos_2020.head(10)"
   ]
  },
  {
   "cell_type": "code",
   "execution_count": 66,
   "metadata": {},
   "outputs": [],
   "source": [
    "datos_2020 = datos_2020.drop(columns=['Zona', 'Cantón'])"
   ]
  },
  {
   "cell_type": "code",
   "execution_count": 67,
   "metadata": {},
   "outputs": [
    {
     "data": {
      "text/html": [
       "<div>\n",
       "<style scoped>\n",
       "    .dataframe tbody tr th:only-of-type {\n",
       "        vertical-align: middle;\n",
       "    }\n",
       "\n",
       "    .dataframe tbody tr th {\n",
       "        vertical-align: top;\n",
       "    }\n",
       "\n",
       "    .dataframe thead th {\n",
       "        text-align: right;\n",
       "    }\n",
       "</style>\n",
       "<table border=\"1\" class=\"dataframe\">\n",
       "  <thead>\n",
       "    <tr style=\"text-align: right;\">\n",
       "      <th></th>\n",
       "      <th>Subzona</th>\n",
       "      <th>presunta_subinfraccion</th>\n",
       "      <th>Fecha de Detención</th>\n",
       "      <th>Sexo</th>\n",
       "      <th>Edad</th>\n",
       "      <th>Nacionalidad</th>\n",
       "    </tr>\n",
       "  </thead>\n",
       "  <tbody>\n",
       "    <tr>\n",
       "      <th>0</th>\n",
       "      <td>LOS RIOS</td>\n",
       "      <td>LESIONES</td>\n",
       "      <td>2020-10-19</td>\n",
       "      <td>HOMBRE</td>\n",
       "      <td>SIN DATO</td>\n",
       "      <td>VENEZOLANO</td>\n",
       "    </tr>\n",
       "    <tr>\n",
       "      <th>1</th>\n",
       "      <td>DMQ</td>\n",
       "      <td>ROBO A PERSONAS</td>\n",
       "      <td>2020-07-22</td>\n",
       "      <td>HOMBRE</td>\n",
       "      <td>23</td>\n",
       "      <td>VENEZOLANO</td>\n",
       "    </tr>\n",
       "    <tr>\n",
       "      <th>2</th>\n",
       "      <td>ZAMORA CHINCHIPE</td>\n",
       "      <td>VIOLENCIA CONTRA LA MUJER O MIEMBROS DEL NÚCLE...</td>\n",
       "      <td>2020-01-25</td>\n",
       "      <td>HOMBRE</td>\n",
       "      <td>23</td>\n",
       "      <td>ECUATORIANO</td>\n",
       "    </tr>\n",
       "    <tr>\n",
       "      <th>3</th>\n",
       "      <td>LOJA</td>\n",
       "      <td>BOLETA DE APREMIO</td>\n",
       "      <td>2020-11-12</td>\n",
       "      <td>HOMBRE</td>\n",
       "      <td>30</td>\n",
       "      <td>ECUATORIANO</td>\n",
       "    </tr>\n",
       "    <tr>\n",
       "      <th>4</th>\n",
       "      <td>DMG</td>\n",
       "      <td>CONTRAVENCIONES DE SEGUNDA CLASE</td>\n",
       "      <td>2020-03-01</td>\n",
       "      <td>MUJER</td>\n",
       "      <td>37</td>\n",
       "      <td>ECUATORIANO</td>\n",
       "    </tr>\n",
       "  </tbody>\n",
       "</table>\n",
       "</div>"
      ],
      "text/plain": [
       "            Subzona                             presunta_subinfraccion  \\\n",
       "0          LOS RIOS                                           LESIONES   \n",
       "1               DMQ                                    ROBO A PERSONAS   \n",
       "2  ZAMORA CHINCHIPE  VIOLENCIA CONTRA LA MUJER O MIEMBROS DEL NÚCLE...   \n",
       "3              LOJA                                  BOLETA DE APREMIO   \n",
       "4               DMG                   CONTRAVENCIONES DE SEGUNDA CLASE   \n",
       "\n",
       "  Fecha de Detención    Sexo      Edad Nacionalidad  \n",
       "0         2020-10-19  HOMBRE  SIN DATO   VENEZOLANO  \n",
       "1         2020-07-22  HOMBRE        23   VENEZOLANO  \n",
       "2         2020-01-25  HOMBRE        23  ECUATORIANO  \n",
       "3         2020-11-12  HOMBRE        30  ECUATORIANO  \n",
       "4         2020-03-01   MUJER        37  ECUATORIANO  "
      ]
     },
     "execution_count": 67,
     "metadata": {},
     "output_type": "execute_result"
    }
   ],
   "source": [
    "datos_2020.head(5)"
   ]
  },
  {
   "cell_type": "markdown",
   "metadata": {},
   "source": [
    "#### Renombramiento de columnas"
   ]
  },
  {
   "cell_type": "code",
   "execution_count": 68,
   "metadata": {},
   "outputs": [
    {
     "data": {
      "text/html": [
       "<div>\n",
       "<style scoped>\n",
       "    .dataframe tbody tr th:only-of-type {\n",
       "        vertical-align: middle;\n",
       "    }\n",
       "\n",
       "    .dataframe tbody tr th {\n",
       "        vertical-align: top;\n",
       "    }\n",
       "\n",
       "    .dataframe thead th {\n",
       "        text-align: right;\n",
       "    }\n",
       "</style>\n",
       "<table border=\"1\" class=\"dataframe\">\n",
       "  <thead>\n",
       "    <tr style=\"text-align: right;\">\n",
       "      <th></th>\n",
       "      <th>provincia</th>\n",
       "      <th>presunta_subinfraccion</th>\n",
       "      <th>fecha_detencion</th>\n",
       "      <th>sexo</th>\n",
       "      <th>edad</th>\n",
       "      <th>nacionalidad</th>\n",
       "    </tr>\n",
       "  </thead>\n",
       "  <tbody>\n",
       "    <tr>\n",
       "      <th>0</th>\n",
       "      <td>LOS RIOS</td>\n",
       "      <td>LESIONES</td>\n",
       "      <td>2020-10-19</td>\n",
       "      <td>HOMBRE</td>\n",
       "      <td>SIN DATO</td>\n",
       "      <td>VENEZOLANO</td>\n",
       "    </tr>\n",
       "    <tr>\n",
       "      <th>1</th>\n",
       "      <td>DMQ</td>\n",
       "      <td>ROBO A PERSONAS</td>\n",
       "      <td>2020-07-22</td>\n",
       "      <td>HOMBRE</td>\n",
       "      <td>23</td>\n",
       "      <td>VENEZOLANO</td>\n",
       "    </tr>\n",
       "    <tr>\n",
       "      <th>2</th>\n",
       "      <td>ZAMORA CHINCHIPE</td>\n",
       "      <td>VIOLENCIA CONTRA LA MUJER O MIEMBROS DEL NÚCLE...</td>\n",
       "      <td>2020-01-25</td>\n",
       "      <td>HOMBRE</td>\n",
       "      <td>23</td>\n",
       "      <td>ECUATORIANO</td>\n",
       "    </tr>\n",
       "    <tr>\n",
       "      <th>3</th>\n",
       "      <td>LOJA</td>\n",
       "      <td>BOLETA DE APREMIO</td>\n",
       "      <td>2020-11-12</td>\n",
       "      <td>HOMBRE</td>\n",
       "      <td>30</td>\n",
       "      <td>ECUATORIANO</td>\n",
       "    </tr>\n",
       "    <tr>\n",
       "      <th>4</th>\n",
       "      <td>DMG</td>\n",
       "      <td>CONTRAVENCIONES DE SEGUNDA CLASE</td>\n",
       "      <td>2020-03-01</td>\n",
       "      <td>MUJER</td>\n",
       "      <td>37</td>\n",
       "      <td>ECUATORIANO</td>\n",
       "    </tr>\n",
       "  </tbody>\n",
       "</table>\n",
       "</div>"
      ],
      "text/plain": [
       "          provincia                             presunta_subinfraccion  \\\n",
       "0          LOS RIOS                                           LESIONES   \n",
       "1               DMQ                                    ROBO A PERSONAS   \n",
       "2  ZAMORA CHINCHIPE  VIOLENCIA CONTRA LA MUJER O MIEMBROS DEL NÚCLE...   \n",
       "3              LOJA                                  BOLETA DE APREMIO   \n",
       "4               DMG                   CONTRAVENCIONES DE SEGUNDA CLASE   \n",
       "\n",
       "  fecha_detencion    sexo      edad nacionalidad  \n",
       "0      2020-10-19  HOMBRE  SIN DATO   VENEZOLANO  \n",
       "1      2020-07-22  HOMBRE        23   VENEZOLANO  \n",
       "2      2020-01-25  HOMBRE        23  ECUATORIANO  \n",
       "3      2020-11-12  HOMBRE        30  ECUATORIANO  \n",
       "4      2020-03-01   MUJER        37  ECUATORIANO  "
      ]
     },
     "execution_count": 68,
     "metadata": {},
     "output_type": "execute_result"
    }
   ],
   "source": [
    "datos_2020 = datos_2020.rename(columns={'Fecha de Detención': 'fecha_detencion', 'Subzona': 'provincia', \"Sexo\": \"sexo\", \n",
    "                                        \"Edad\":\"edad\", \"Nacionalidad\":\"nacionalidad\"})\n",
    "\n",
    "datos_2020.head(5)"
   ]
  },
  {
   "cell_type": "markdown",
   "metadata": {},
   "source": [
    "#### Eliminación de inconsistencias (nulos, vacios, inconsistentes)"
   ]
  },
  {
   "cell_type": "code",
   "execution_count": 69,
   "metadata": {},
   "outputs": [
    {
     "data": {
      "text/plain": [
       "array(['SIN DATO', 23, 30, 37, 31, 39, 40, 33, 32, 21, 27, 20, 35, 28, 26,\n",
       "       52, 17, 18, 19, 41, 29, 45, 36, 66, 59, 34, 22, 25, 47, 56, 72, 42,\n",
       "       50, 73, 65, 38, 57, 46, 49, 51, 44, 24, 54, 55, 53, 43, 63, 64, 14,\n",
       "       61, 77, 48, 16, 15, 60, 67, 70, 58, 69, 71, 68, 78, 13, 62, 12, 74,\n",
       "       79, 75, 76, 82, 83, 11, 84, 85, 88, 81, 90, 80, 87, 89, 95, 92, 8,\n",
       "       nan, 0], dtype=object)"
      ]
     },
     "execution_count": 69,
     "metadata": {},
     "output_type": "execute_result"
    }
   ],
   "source": [
    "datos_2020['edad'].unique()"
   ]
  },
  {
   "cell_type": "code",
   "execution_count": 70,
   "metadata": {},
   "outputs": [
    {
     "data": {
      "text/plain": [
       "array([23, 30, 37, 31, 39, 40, 33, 32, 21, 27, 20, 35, 28, 26, 52, 17, 18,\n",
       "       19, 41, 29, 45, 36, 66, 59, 34, 22, 25, 47, 56, 72, 42, 50, 73, 65,\n",
       "       38, 57, 46, 49, 51, 44, 24, 54, 55, 53, 43, 63, 64, 14, 61, 77, 48,\n",
       "       16, 15, 60, 67, 70, 58, 69, 71, 68, 78, 13, 62, 12, 74, 79, 75, 76,\n",
       "       82, 83, 11, 84, 85, 88, 81, 90, 80, 87, 89, 95, 92, 8, nan, 0],\n",
       "      dtype=object)"
      ]
     },
     "execution_count": 70,
     "metadata": {},
     "output_type": "execute_result"
    }
   ],
   "source": [
    "datos_2020 = datos_2020[datos_2020['edad'] != 'SIN DATO']\n",
    "datos_2020['edad'].unique()"
   ]
  },
  {
   "cell_type": "code",
   "execution_count": 71,
   "metadata": {},
   "outputs": [
    {
     "data": {
      "text/plain": [
       "array(['VENEZOLANO', 'ECUATORIANO', 'PERUANO', 'IRANÍ', 'SE DESCONOCE',\n",
       "       'COLOMBIANO', 'GHANÉS', 'DOMINICANO', 'CHILENO', 'CUBANO',\n",
       "       'ITALIANO', 'ECUATOGUINEANO', 'BRASILEÑO', 'ESTADOUNIDENCE',\n",
       "       'INDIO/HINDÚ', 'ARGENTINO', 'UGANDÉS', 'MEXICANO', 'CHINO',\n",
       "       'CABOVERDIANO', 'ESPAÑOL', 'ISRAELÍ', 'PANAMEÑO', 'SUDAFRICANO',\n",
       "       'CANADIENSE', 'CAMERUNÉS', 'RUMANO', 'NIGERIANO', 'ALEMÁN',\n",
       "       'PARAGUAYO', 'RUSO', 'LIBANÉS', 'PAPÚ', 'LETONIO', 'TURCO',\n",
       "       'PAKISTANÍ', 'UCRANIANO', 'NICARAGUENSE', 'FRANCÉS', 'SUECO',\n",
       "       'LITUANO', 'ETÍOPE', 'GUATEMALTECO', 'SUIZO', 'AUSTRALIANO',\n",
       "       'HAITIANO', 'SIRIO', 'KIRGUÍS', 'NEOZELANDÉS', 'COSTARRICENSE',\n",
       "       'CROATA', 'BANGLADESÍ', 'VATICANA', 'BELGA', nan], dtype=object)"
      ]
     },
     "execution_count": 71,
     "metadata": {},
     "output_type": "execute_result"
    }
   ],
   "source": [
    "datos_2020['nacionalidad'].unique()"
   ]
  },
  {
   "cell_type": "code",
   "execution_count": 72,
   "metadata": {},
   "outputs": [
    {
     "data": {
      "text/plain": [
       "array(['VENEZOLANO', 'ECUATORIANO', 'PERUANO', 'IRANÍ', 'COLOMBIANO',\n",
       "       'GHANÉS', 'DOMINICANO', 'CHILENO', 'CUBANO', 'ITALIANO',\n",
       "       'ECUATOGUINEANO', 'BRASILEÑO', 'ESTADOUNIDENCE', 'INDIO/HINDÚ',\n",
       "       'ARGENTINO', 'UGANDÉS', 'MEXICANO', 'CHINO', 'CABOVERDIANO',\n",
       "       'ESPAÑOL', 'ISRAELÍ', 'PANAMEÑO', 'SUDAFRICANO', 'CANADIENSE',\n",
       "       'CAMERUNÉS', 'RUMANO', 'NIGERIANO', 'ALEMÁN', 'PARAGUAYO', 'RUSO',\n",
       "       'LIBANÉS', 'PAPÚ', 'LETONIO', 'TURCO', 'PAKISTANÍ', 'UCRANIANO',\n",
       "       'NICARAGUENSE', 'FRANCÉS', 'SUECO', 'LITUANO', 'ETÍOPE',\n",
       "       'GUATEMALTECO', 'SUIZO', 'AUSTRALIANO', 'HAITIANO', 'SIRIO',\n",
       "       'KIRGUÍS', 'NEOZELANDÉS', 'COSTARRICENSE', 'CROATA', 'BANGLADESÍ',\n",
       "       'VATICANA', 'BELGA'], dtype=object)"
      ]
     },
     "execution_count": 72,
     "metadata": {},
     "output_type": "execute_result"
    }
   ],
   "source": [
    "datos_2020 = datos_2020[datos_2020['nacionalidad'] != 'SE DESCONOCE']\n",
    "datos_2020 = datos_2020.dropna(subset=['nacionalidad'])\n",
    "datos_2020['nacionalidad'].unique()"
   ]
  },
  {
   "cell_type": "code",
   "execution_count": 73,
   "metadata": {},
   "outputs": [
    {
     "data": {
      "text/plain": [
       "array(['DMQ', 'ZAMORA CHINCHIPE', 'LOJA', 'DMG', 'TUNGURAHUA', 'AZUAY',\n",
       "       'ESMERALDAS', 'GUAYAS', 'SANTO DOMINGO DE LOS TSACHILAS',\n",
       "       'GALAPAGOS', 'CAÑAR', 'EL ORO', 'SUCUMBIOS', 'MANABI', 'PICHINCHA',\n",
       "       'MORONA SANTIAGO', 'CHIMBORAZO', 'ORELLANA', 'COTOPAXI', 'CARCHI',\n",
       "       'NAPO', 'IMBABURA', 'PASTAZA', 'LOS RIOS', 'SANTA ELENA',\n",
       "       'MAR TERRITORIAL', 'BOLIVAR'], dtype=object)"
      ]
     },
     "execution_count": 73,
     "metadata": {},
     "output_type": "execute_result"
    }
   ],
   "source": [
    "datos_2020['provincia'].unique()"
   ]
  },
  {
   "cell_type": "code",
   "execution_count": 74,
   "metadata": {},
   "outputs": [
    {
     "data": {
      "text/plain": [
       "array(['DMQ', 'ZAMORA CHINCHIPE', 'LOJA', 'DMG', 'TUNGURAHUA', 'AZUAY',\n",
       "       'ESMERALDAS', 'GUAYAS', 'SANTO DOMINGO DE LOS TSACHILAS',\n",
       "       'GALAPAGOS', 'CAÑAR', 'EL ORO', 'SUCUMBIOS', 'MANABI', 'PICHINCHA',\n",
       "       'MORONA SANTIAGO', 'CHIMBORAZO', 'ORELLANA', 'COTOPAXI', 'CARCHI',\n",
       "       'NAPO', 'IMBABURA', 'PASTAZA', 'LOS RIOS', 'SANTA ELENA',\n",
       "       'BOLIVAR'], dtype=object)"
      ]
     },
     "execution_count": 74,
     "metadata": {},
     "output_type": "execute_result"
    }
   ],
   "source": [
    "datos_2020 = datos_2020[datos_2020['provincia'] != 'MAR TERRITORIAL']\n",
    "datos_2020['provincia'].unique()"
   ]
  },
  {
   "cell_type": "code",
   "execution_count": 75,
   "metadata": {},
   "outputs": [
    {
     "data": {
      "text/html": [
       "<div>\n",
       "<style scoped>\n",
       "    .dataframe tbody tr th:only-of-type {\n",
       "        vertical-align: middle;\n",
       "    }\n",
       "\n",
       "    .dataframe tbody tr th {\n",
       "        vertical-align: top;\n",
       "    }\n",
       "\n",
       "    .dataframe thead th {\n",
       "        text-align: right;\n",
       "    }\n",
       "</style>\n",
       "<table border=\"1\" class=\"dataframe\">\n",
       "  <thead>\n",
       "    <tr style=\"text-align: right;\">\n",
       "      <th></th>\n",
       "      <th>provincia</th>\n",
       "      <th>presunta_subinfraccion</th>\n",
       "      <th>fecha_detencion</th>\n",
       "      <th>sexo</th>\n",
       "      <th>edad</th>\n",
       "      <th>nacionalidad</th>\n",
       "    </tr>\n",
       "  </thead>\n",
       "  <tbody>\n",
       "    <tr>\n",
       "      <th>1</th>\n",
       "      <td>PICHINCHA</td>\n",
       "      <td>ROBO A PERSONAS</td>\n",
       "      <td>2020-07-22</td>\n",
       "      <td>HOMBRE</td>\n",
       "      <td>23</td>\n",
       "      <td>VENEZOLANO</td>\n",
       "    </tr>\n",
       "    <tr>\n",
       "      <th>2</th>\n",
       "      <td>ZAMORA CHINCHIPE</td>\n",
       "      <td>VIOLENCIA CONTRA LA MUJER O MIEMBROS DEL NÚCLE...</td>\n",
       "      <td>2020-01-25</td>\n",
       "      <td>HOMBRE</td>\n",
       "      <td>23</td>\n",
       "      <td>ECUATORIANO</td>\n",
       "    </tr>\n",
       "    <tr>\n",
       "      <th>3</th>\n",
       "      <td>LOJA</td>\n",
       "      <td>BOLETA DE APREMIO</td>\n",
       "      <td>2020-11-12</td>\n",
       "      <td>HOMBRE</td>\n",
       "      <td>30</td>\n",
       "      <td>ECUATORIANO</td>\n",
       "    </tr>\n",
       "    <tr>\n",
       "      <th>4</th>\n",
       "      <td>GUAYAS</td>\n",
       "      <td>CONTRAVENCIONES DE SEGUNDA CLASE</td>\n",
       "      <td>2020-03-01</td>\n",
       "      <td>MUJER</td>\n",
       "      <td>37</td>\n",
       "      <td>ECUATORIANO</td>\n",
       "    </tr>\n",
       "    <tr>\n",
       "      <th>5</th>\n",
       "      <td>TUNGURAHUA</td>\n",
       "      <td>BOLETA DE AUXILIO</td>\n",
       "      <td>2020-10-29</td>\n",
       "      <td>HOMBRE</td>\n",
       "      <td>31</td>\n",
       "      <td>ECUATORIANO</td>\n",
       "    </tr>\n",
       "    <tr>\n",
       "      <th>6</th>\n",
       "      <td>PICHINCHA</td>\n",
       "      <td>TRÁFICO ILÍCITO DE SUSTANCIAS CATALOGADAS SUJE...</td>\n",
       "      <td>2020-06-25</td>\n",
       "      <td>HOMBRE</td>\n",
       "      <td>23</td>\n",
       "      <td>ECUATORIANO</td>\n",
       "    </tr>\n",
       "    <tr>\n",
       "      <th>7</th>\n",
       "      <td>LOJA</td>\n",
       "      <td>ABUSO DE CONFIANZA</td>\n",
       "      <td>2020-09-03</td>\n",
       "      <td>HOMBRE</td>\n",
       "      <td>39</td>\n",
       "      <td>ECUATORIANO</td>\n",
       "    </tr>\n",
       "    <tr>\n",
       "      <th>8</th>\n",
       "      <td>AZUAY</td>\n",
       "      <td>ROBO DE BIENES, ACCESORIO Y AUTOPARTES DE VEHÍ...</td>\n",
       "      <td>2020-02-22</td>\n",
       "      <td>HOMBRE</td>\n",
       "      <td>40</td>\n",
       "      <td>ECUATORIANO</td>\n",
       "    </tr>\n",
       "    <tr>\n",
       "      <th>9</th>\n",
       "      <td>ESMERALDAS</td>\n",
       "      <td>CONTRAVENCIONES DE TRÁNSITO DE PRIMERA CLASE</td>\n",
       "      <td>2020-08-14</td>\n",
       "      <td>HOMBRE</td>\n",
       "      <td>23</td>\n",
       "      <td>ECUATORIANO</td>\n",
       "    </tr>\n",
       "    <tr>\n",
       "      <th>10</th>\n",
       "      <td>AZUAY</td>\n",
       "      <td>BOLETA DE APREMIO</td>\n",
       "      <td>2020-10-22</td>\n",
       "      <td>HOMBRE</td>\n",
       "      <td>33</td>\n",
       "      <td>ECUATORIANO</td>\n",
       "    </tr>\n",
       "  </tbody>\n",
       "</table>\n",
       "</div>"
      ],
      "text/plain": [
       "           provincia                             presunta_subinfraccion  \\\n",
       "1          PICHINCHA                                    ROBO A PERSONAS   \n",
       "2   ZAMORA CHINCHIPE  VIOLENCIA CONTRA LA MUJER O MIEMBROS DEL NÚCLE...   \n",
       "3               LOJA                                  BOLETA DE APREMIO   \n",
       "4             GUAYAS                   CONTRAVENCIONES DE SEGUNDA CLASE   \n",
       "5         TUNGURAHUA                                  BOLETA DE AUXILIO   \n",
       "6          PICHINCHA  TRÁFICO ILÍCITO DE SUSTANCIAS CATALOGADAS SUJE...   \n",
       "7               LOJA                                 ABUSO DE CONFIANZA   \n",
       "8              AZUAY  ROBO DE BIENES, ACCESORIO Y AUTOPARTES DE VEHÍ...   \n",
       "9         ESMERALDAS       CONTRAVENCIONES DE TRÁNSITO DE PRIMERA CLASE   \n",
       "10             AZUAY                                  BOLETA DE APREMIO   \n",
       "\n",
       "   fecha_detencion    sexo edad nacionalidad  \n",
       "1       2020-07-22  HOMBRE   23   VENEZOLANO  \n",
       "2       2020-01-25  HOMBRE   23  ECUATORIANO  \n",
       "3       2020-11-12  HOMBRE   30  ECUATORIANO  \n",
       "4       2020-03-01   MUJER   37  ECUATORIANO  \n",
       "5       2020-10-29  HOMBRE   31  ECUATORIANO  \n",
       "6       2020-06-25  HOMBRE   23  ECUATORIANO  \n",
       "7       2020-09-03  HOMBRE   39  ECUATORIANO  \n",
       "8       2020-02-22  HOMBRE   40  ECUATORIANO  \n",
       "9       2020-08-14  HOMBRE   23  ECUATORIANO  \n",
       "10      2020-10-22  HOMBRE   33  ECUATORIANO  "
      ]
     },
     "execution_count": 75,
     "metadata": {},
     "output_type": "execute_result"
    }
   ],
   "source": [
    "datos_2020['provincia'] = datos_2020['provincia'].replace({'DMQ': 'PICHINCHA', 'DMG': 'GUAYAS'})\n",
    "datos_2020.head(10)"
   ]
  },
  {
   "cell_type": "markdown",
   "metadata": {},
   "source": [
    "# 2019"
   ]
  },
  {
   "cell_type": "code",
   "execution_count": 76,
   "metadata": {},
   "outputs": [],
   "source": [
    "datos_2019 = pd.read_excel(excel_file, sheet_name=\"2019\")"
   ]
  },
  {
   "cell_type": "markdown",
   "metadata": {},
   "source": [
    "#### Eliminación de columnas que no se utilizarán"
   ]
  },
  {
   "cell_type": "code",
   "execution_count": 77,
   "metadata": {},
   "outputs": [
    {
     "data": {
      "text/html": [
       "<div>\n",
       "<style scoped>\n",
       "    .dataframe tbody tr th:only-of-type {\n",
       "        vertical-align: middle;\n",
       "    }\n",
       "\n",
       "    .dataframe tbody tr th {\n",
       "        vertical-align: top;\n",
       "    }\n",
       "\n",
       "    .dataframe thead th {\n",
       "        text-align: right;\n",
       "    }\n",
       "</style>\n",
       "<table border=\"1\" class=\"dataframe\">\n",
       "  <thead>\n",
       "    <tr style=\"text-align: right;\">\n",
       "      <th></th>\n",
       "      <th>Zona</th>\n",
       "      <th>Subzona</th>\n",
       "      <th>Cantón</th>\n",
       "      <th>Presunta_Subinfracción</th>\n",
       "      <th>Fecha de Detención</th>\n",
       "      <th>Sexo</th>\n",
       "      <th>Edad</th>\n",
       "      <th>Nacionalidad</th>\n",
       "    </tr>\n",
       "  </thead>\n",
       "  <tbody>\n",
       "    <tr>\n",
       "      <th>0</th>\n",
       "      <td>ZONA 7</td>\n",
       "      <td>ZAMORA CHINCHIPE</td>\n",
       "      <td>YANTZAZA</td>\n",
       "      <td>BOLETA DE DETENCIÓN/CAPTURA</td>\n",
       "      <td>2019-02-13</td>\n",
       "      <td>HOMBRE</td>\n",
       "      <td>50</td>\n",
       "      <td>ECUATORIANO</td>\n",
       "    </tr>\n",
       "    <tr>\n",
       "      <th>1</th>\n",
       "      <td>ZONA 7</td>\n",
       "      <td>ZAMORA CHINCHIPE</td>\n",
       "      <td>ZAMORA</td>\n",
       "      <td>NOVEDADES</td>\n",
       "      <td>2019-01-12</td>\n",
       "      <td>HOMBRE</td>\n",
       "      <td>35</td>\n",
       "      <td>ECUATORIANO</td>\n",
       "    </tr>\n",
       "    <tr>\n",
       "      <th>2</th>\n",
       "      <td>ZONA 8</td>\n",
       "      <td>DMG</td>\n",
       "      <td>SAMBORONDON</td>\n",
       "      <td>ALMACENAMIENTO, TRANSPORTE, ENVASADO, COMERCIA...</td>\n",
       "      <td>2019-02-06</td>\n",
       "      <td>HOMBRE</td>\n",
       "      <td>51</td>\n",
       "      <td>ECUATORIANO</td>\n",
       "    </tr>\n",
       "    <tr>\n",
       "      <th>3</th>\n",
       "      <td>ZONA 7</td>\n",
       "      <td>ZAMORA CHINCHIPE</td>\n",
       "      <td>CHINCHIPE</td>\n",
       "      <td>BOLETA DE APREMIO</td>\n",
       "      <td>2019-01-17</td>\n",
       "      <td>HOMBRE</td>\n",
       "      <td>25</td>\n",
       "      <td>ECUATORIANO</td>\n",
       "    </tr>\n",
       "    <tr>\n",
       "      <th>4</th>\n",
       "      <td>ZONA 6</td>\n",
       "      <td>MORONA SANTIAGO</td>\n",
       "      <td>SUCUA</td>\n",
       "      <td>CONTRAVENCIONES DE PRIMERA CLASE</td>\n",
       "      <td>2019-01-15</td>\n",
       "      <td>HOMBRE</td>\n",
       "      <td>21</td>\n",
       "      <td>ECUATORIANO</td>\n",
       "    </tr>\n",
       "    <tr>\n",
       "      <th>5</th>\n",
       "      <td>ZONA 2</td>\n",
       "      <td>PICHINCHA</td>\n",
       "      <td>SAN MIGUEL DE LOS BANCOS</td>\n",
       "      <td>FINANCIAMIENTO O SUMINISTROS DE MAQUINARIAS PA...</td>\n",
       "      <td>2019-01-08</td>\n",
       "      <td>HOMBRE</td>\n",
       "      <td>35</td>\n",
       "      <td>ECUATORIANO</td>\n",
       "    </tr>\n",
       "    <tr>\n",
       "      <th>6</th>\n",
       "      <td>ZONA 8</td>\n",
       "      <td>DMG</td>\n",
       "      <td>GUAYAQUIL</td>\n",
       "      <td>ROBO A PERSONAS</td>\n",
       "      <td>2019-01-21</td>\n",
       "      <td>HOMBRE</td>\n",
       "      <td>24</td>\n",
       "      <td>ECUATORIANO</td>\n",
       "    </tr>\n",
       "    <tr>\n",
       "      <th>7</th>\n",
       "      <td>ZONA 7</td>\n",
       "      <td>LOJA</td>\n",
       "      <td>LOJA</td>\n",
       "      <td>PROCEDIMIENTOS</td>\n",
       "      <td>2019-02-10</td>\n",
       "      <td>HOMBRE</td>\n",
       "      <td>38</td>\n",
       "      <td>ECUATORIANO</td>\n",
       "    </tr>\n",
       "    <tr>\n",
       "      <th>8</th>\n",
       "      <td>ZONA 8</td>\n",
       "      <td>DMG</td>\n",
       "      <td>GUAYAQUIL</td>\n",
       "      <td>BOLETA DE DETENCIÓN/CAPTURA</td>\n",
       "      <td>2019-02-16</td>\n",
       "      <td>HOMBRE</td>\n",
       "      <td>29</td>\n",
       "      <td>ECUATORIANO</td>\n",
       "    </tr>\n",
       "    <tr>\n",
       "      <th>9</th>\n",
       "      <td>ZONA 8</td>\n",
       "      <td>DMG</td>\n",
       "      <td>GUAYAQUIL</td>\n",
       "      <td>TRÁFICO ILÍCITO DE SUSTANCIAS CATALOGADAS SUJE...</td>\n",
       "      <td>2019-02-25</td>\n",
       "      <td>HOMBRE</td>\n",
       "      <td>22</td>\n",
       "      <td>ECUATORIANO</td>\n",
       "    </tr>\n",
       "  </tbody>\n",
       "</table>\n",
       "</div>"
      ],
      "text/plain": [
       "     Zona           Subzona                    Cantón  \\\n",
       "0  ZONA 7  ZAMORA CHINCHIPE                  YANTZAZA   \n",
       "1  ZONA 7  ZAMORA CHINCHIPE                    ZAMORA   \n",
       "2  ZONA 8               DMG               SAMBORONDON   \n",
       "3  ZONA 7  ZAMORA CHINCHIPE                 CHINCHIPE   \n",
       "4  ZONA 6   MORONA SANTIAGO                     SUCUA   \n",
       "5  ZONA 2         PICHINCHA  SAN MIGUEL DE LOS BANCOS   \n",
       "6  ZONA 8               DMG                 GUAYAQUIL   \n",
       "7  ZONA 7              LOJA                      LOJA   \n",
       "8  ZONA 8               DMG                 GUAYAQUIL   \n",
       "9  ZONA 8               DMG                 GUAYAQUIL   \n",
       "\n",
       "                              Presunta_Subinfracción Fecha de Detención  \\\n",
       "0                        BOLETA DE DETENCIÓN/CAPTURA         2019-02-13   \n",
       "1                                          NOVEDADES         2019-01-12   \n",
       "2  ALMACENAMIENTO, TRANSPORTE, ENVASADO, COMERCIA...         2019-02-06   \n",
       "3                                  BOLETA DE APREMIO         2019-01-17   \n",
       "4                   CONTRAVENCIONES DE PRIMERA CLASE         2019-01-15   \n",
       "5  FINANCIAMIENTO O SUMINISTROS DE MAQUINARIAS PA...         2019-01-08   \n",
       "6                                    ROBO A PERSONAS         2019-01-21   \n",
       "7                                     PROCEDIMIENTOS         2019-02-10   \n",
       "8                        BOLETA DE DETENCIÓN/CAPTURA         2019-02-16   \n",
       "9  TRÁFICO ILÍCITO DE SUSTANCIAS CATALOGADAS SUJE...         2019-02-25   \n",
       "\n",
       "     Sexo Edad Nacionalidad  \n",
       "0  HOMBRE   50  ECUATORIANO  \n",
       "1  HOMBRE   35  ECUATORIANO  \n",
       "2  HOMBRE   51  ECUATORIANO  \n",
       "3  HOMBRE   25  ECUATORIANO  \n",
       "4  HOMBRE   21  ECUATORIANO  \n",
       "5  HOMBRE   35  ECUATORIANO  \n",
       "6  HOMBRE   24  ECUATORIANO  \n",
       "7  HOMBRE   38  ECUATORIANO  \n",
       "8  HOMBRE   29  ECUATORIANO  \n",
       "9  HOMBRE   22  ECUATORIANO  "
      ]
     },
     "execution_count": 77,
     "metadata": {},
     "output_type": "execute_result"
    }
   ],
   "source": [
    "datos_2019.head(10)"
   ]
  },
  {
   "cell_type": "code",
   "execution_count": 78,
   "metadata": {},
   "outputs": [],
   "source": [
    "datos_2019 = datos_2019.drop(columns=['Zona', 'Cantón'])"
   ]
  },
  {
   "cell_type": "code",
   "execution_count": 79,
   "metadata": {},
   "outputs": [
    {
     "data": {
      "text/html": [
       "<div>\n",
       "<style scoped>\n",
       "    .dataframe tbody tr th:only-of-type {\n",
       "        vertical-align: middle;\n",
       "    }\n",
       "\n",
       "    .dataframe tbody tr th {\n",
       "        vertical-align: top;\n",
       "    }\n",
       "\n",
       "    .dataframe thead th {\n",
       "        text-align: right;\n",
       "    }\n",
       "</style>\n",
       "<table border=\"1\" class=\"dataframe\">\n",
       "  <thead>\n",
       "    <tr style=\"text-align: right;\">\n",
       "      <th></th>\n",
       "      <th>Subzona</th>\n",
       "      <th>Presunta_Subinfracción</th>\n",
       "      <th>Fecha de Detención</th>\n",
       "      <th>Sexo</th>\n",
       "      <th>Edad</th>\n",
       "      <th>Nacionalidad</th>\n",
       "    </tr>\n",
       "  </thead>\n",
       "  <tbody>\n",
       "    <tr>\n",
       "      <th>0</th>\n",
       "      <td>ZAMORA CHINCHIPE</td>\n",
       "      <td>BOLETA DE DETENCIÓN/CAPTURA</td>\n",
       "      <td>2019-02-13</td>\n",
       "      <td>HOMBRE</td>\n",
       "      <td>50</td>\n",
       "      <td>ECUATORIANO</td>\n",
       "    </tr>\n",
       "    <tr>\n",
       "      <th>1</th>\n",
       "      <td>ZAMORA CHINCHIPE</td>\n",
       "      <td>NOVEDADES</td>\n",
       "      <td>2019-01-12</td>\n",
       "      <td>HOMBRE</td>\n",
       "      <td>35</td>\n",
       "      <td>ECUATORIANO</td>\n",
       "    </tr>\n",
       "    <tr>\n",
       "      <th>2</th>\n",
       "      <td>DMG</td>\n",
       "      <td>ALMACENAMIENTO, TRANSPORTE, ENVASADO, COMERCIA...</td>\n",
       "      <td>2019-02-06</td>\n",
       "      <td>HOMBRE</td>\n",
       "      <td>51</td>\n",
       "      <td>ECUATORIANO</td>\n",
       "    </tr>\n",
       "    <tr>\n",
       "      <th>3</th>\n",
       "      <td>ZAMORA CHINCHIPE</td>\n",
       "      <td>BOLETA DE APREMIO</td>\n",
       "      <td>2019-01-17</td>\n",
       "      <td>HOMBRE</td>\n",
       "      <td>25</td>\n",
       "      <td>ECUATORIANO</td>\n",
       "    </tr>\n",
       "    <tr>\n",
       "      <th>4</th>\n",
       "      <td>MORONA SANTIAGO</td>\n",
       "      <td>CONTRAVENCIONES DE PRIMERA CLASE</td>\n",
       "      <td>2019-01-15</td>\n",
       "      <td>HOMBRE</td>\n",
       "      <td>21</td>\n",
       "      <td>ECUATORIANO</td>\n",
       "    </tr>\n",
       "  </tbody>\n",
       "</table>\n",
       "</div>"
      ],
      "text/plain": [
       "            Subzona                             Presunta_Subinfracción  \\\n",
       "0  ZAMORA CHINCHIPE                        BOLETA DE DETENCIÓN/CAPTURA   \n",
       "1  ZAMORA CHINCHIPE                                          NOVEDADES   \n",
       "2               DMG  ALMACENAMIENTO, TRANSPORTE, ENVASADO, COMERCIA...   \n",
       "3  ZAMORA CHINCHIPE                                  BOLETA DE APREMIO   \n",
       "4   MORONA SANTIAGO                   CONTRAVENCIONES DE PRIMERA CLASE   \n",
       "\n",
       "  Fecha de Detención    Sexo Edad Nacionalidad  \n",
       "0         2019-02-13  HOMBRE   50  ECUATORIANO  \n",
       "1         2019-01-12  HOMBRE   35  ECUATORIANO  \n",
       "2         2019-02-06  HOMBRE   51  ECUATORIANO  \n",
       "3         2019-01-17  HOMBRE   25  ECUATORIANO  \n",
       "4         2019-01-15  HOMBRE   21  ECUATORIANO  "
      ]
     },
     "execution_count": 79,
     "metadata": {},
     "output_type": "execute_result"
    }
   ],
   "source": [
    "datos_2019.head(5)"
   ]
  },
  {
   "cell_type": "markdown",
   "metadata": {},
   "source": [
    "#### Renombramiento de columnas"
   ]
  },
  {
   "cell_type": "code",
   "execution_count": 80,
   "metadata": {},
   "outputs": [
    {
     "data": {
      "text/html": [
       "<div>\n",
       "<style scoped>\n",
       "    .dataframe tbody tr th:only-of-type {\n",
       "        vertical-align: middle;\n",
       "    }\n",
       "\n",
       "    .dataframe tbody tr th {\n",
       "        vertical-align: top;\n",
       "    }\n",
       "\n",
       "    .dataframe thead th {\n",
       "        text-align: right;\n",
       "    }\n",
       "</style>\n",
       "<table border=\"1\" class=\"dataframe\">\n",
       "  <thead>\n",
       "    <tr style=\"text-align: right;\">\n",
       "      <th></th>\n",
       "      <th>provincia</th>\n",
       "      <th>presunta_subinfraccion</th>\n",
       "      <th>fecha_detencion</th>\n",
       "      <th>sexo</th>\n",
       "      <th>edad</th>\n",
       "      <th>nacionalidad</th>\n",
       "    </tr>\n",
       "  </thead>\n",
       "  <tbody>\n",
       "    <tr>\n",
       "      <th>0</th>\n",
       "      <td>ZAMORA CHINCHIPE</td>\n",
       "      <td>BOLETA DE DETENCIÓN/CAPTURA</td>\n",
       "      <td>2019-02-13</td>\n",
       "      <td>HOMBRE</td>\n",
       "      <td>50</td>\n",
       "      <td>ECUATORIANO</td>\n",
       "    </tr>\n",
       "    <tr>\n",
       "      <th>1</th>\n",
       "      <td>ZAMORA CHINCHIPE</td>\n",
       "      <td>NOVEDADES</td>\n",
       "      <td>2019-01-12</td>\n",
       "      <td>HOMBRE</td>\n",
       "      <td>35</td>\n",
       "      <td>ECUATORIANO</td>\n",
       "    </tr>\n",
       "    <tr>\n",
       "      <th>2</th>\n",
       "      <td>DMG</td>\n",
       "      <td>ALMACENAMIENTO, TRANSPORTE, ENVASADO, COMERCIA...</td>\n",
       "      <td>2019-02-06</td>\n",
       "      <td>HOMBRE</td>\n",
       "      <td>51</td>\n",
       "      <td>ECUATORIANO</td>\n",
       "    </tr>\n",
       "    <tr>\n",
       "      <th>3</th>\n",
       "      <td>ZAMORA CHINCHIPE</td>\n",
       "      <td>BOLETA DE APREMIO</td>\n",
       "      <td>2019-01-17</td>\n",
       "      <td>HOMBRE</td>\n",
       "      <td>25</td>\n",
       "      <td>ECUATORIANO</td>\n",
       "    </tr>\n",
       "    <tr>\n",
       "      <th>4</th>\n",
       "      <td>MORONA SANTIAGO</td>\n",
       "      <td>CONTRAVENCIONES DE PRIMERA CLASE</td>\n",
       "      <td>2019-01-15</td>\n",
       "      <td>HOMBRE</td>\n",
       "      <td>21</td>\n",
       "      <td>ECUATORIANO</td>\n",
       "    </tr>\n",
       "  </tbody>\n",
       "</table>\n",
       "</div>"
      ],
      "text/plain": [
       "          provincia                             presunta_subinfraccion  \\\n",
       "0  ZAMORA CHINCHIPE                        BOLETA DE DETENCIÓN/CAPTURA   \n",
       "1  ZAMORA CHINCHIPE                                          NOVEDADES   \n",
       "2               DMG  ALMACENAMIENTO, TRANSPORTE, ENVASADO, COMERCIA...   \n",
       "3  ZAMORA CHINCHIPE                                  BOLETA DE APREMIO   \n",
       "4   MORONA SANTIAGO                   CONTRAVENCIONES DE PRIMERA CLASE   \n",
       "\n",
       "  fecha_detencion    sexo edad nacionalidad  \n",
       "0      2019-02-13  HOMBRE   50  ECUATORIANO  \n",
       "1      2019-01-12  HOMBRE   35  ECUATORIANO  \n",
       "2      2019-02-06  HOMBRE   51  ECUATORIANO  \n",
       "3      2019-01-17  HOMBRE   25  ECUATORIANO  \n",
       "4      2019-01-15  HOMBRE   21  ECUATORIANO  "
      ]
     },
     "execution_count": 80,
     "metadata": {},
     "output_type": "execute_result"
    }
   ],
   "source": [
    "datos_2019 = datos_2019.rename(columns={'Fecha de Detención': 'fecha_detencion', 'Subzona': 'provincia', \"Sexo\": \"sexo\", \n",
    "                                        \"Edad\":\"edad\", \"Nacionalidad\":\"nacionalidad\", \"Presunta_Subinfracción\":\"presunta_subinfraccion\"})\n",
    "\n",
    "datos_2019.head(5)"
   ]
  },
  {
   "cell_type": "markdown",
   "metadata": {},
   "source": [
    "#### Eliminación de inconsistencias (nulos, vacios, inconsistentes)"
   ]
  },
  {
   "cell_type": "code",
   "execution_count": 81,
   "metadata": {},
   "outputs": [
    {
     "data": {
      "text/plain": [
       "array([50, 35, 51, 25, 21, 24, 38, 29, 22, 52, 28, 31, 23, 19, 54, 20, 59,\n",
       "       53, 40, 56, 33, 'SIN DATO', 49, 26, 30, 18, 46, 47, 17, 34, 43, 32,\n",
       "       15, 16, 42, 27, 41, 57, 39, 45, 36, 37, 44, 58, 48, 66, 63, 70, 55,\n",
       "       60, 61, 79, 13, 69, 84, 72, 62, 68, 76, 14, 65, 67, 83, 64, 75, 74,\n",
       "       12, 77, 87, 78, 91, 71, 80, 82, 73, 81, 86, 89, 90, 9, 103, 8, 11],\n",
       "      dtype=object)"
      ]
     },
     "execution_count": 81,
     "metadata": {},
     "output_type": "execute_result"
    }
   ],
   "source": [
    "datos_2019['edad'].unique()"
   ]
  },
  {
   "cell_type": "code",
   "execution_count": 82,
   "metadata": {},
   "outputs": [
    {
     "data": {
      "text/plain": [
       "array([50, 35, 51, 25, 21, 24, 38, 29, 22, 52, 28, 31, 23, 19, 54, 20, 59,\n",
       "       53, 40, 56, 33, 49, 26, 30, 18, 46, 47, 17, 34, 43, 32, 15, 16, 42,\n",
       "       27, 41, 57, 39, 45, 36, 37, 44, 58, 48, 66, 63, 70, 55, 60, 61, 79,\n",
       "       13, 69, 84, 72, 62, 68, 76, 14, 65, 67, 83, 64, 75, 74, 12, 77, 87,\n",
       "       78, 91, 71, 80, 82, 73, 81, 86, 89, 90, 9, 103, 8, 11],\n",
       "      dtype=object)"
      ]
     },
     "execution_count": 82,
     "metadata": {},
     "output_type": "execute_result"
    }
   ],
   "source": [
    "datos_2019 = datos_2019[datos_2019['edad'] != 'SIN DATO']\n",
    "datos_2019['edad'].unique()"
   ]
  },
  {
   "cell_type": "code",
   "execution_count": 83,
   "metadata": {},
   "outputs": [
    {
     "data": {
      "text/plain": [
       "array(['ECUATORIANO', 'VENEZOLANO', 'COLOMBIANO', 'ESPAÑOL', 'PERUANO',\n",
       "       'ARGENTINO', 'SIN DATO', 'ESTADOUNIDENCE', 'CHINO', 'DOMINICANO',\n",
       "       'CHILENO', 'MEXICANO', 'BUTAN', 'BRASILEÑO', 'PARAGUAYA',\n",
       "       'LIBANES', 'BANGLADESH', 'TAIWAN', 'INDIO', 'FRANCÉS', 'CUBANO',\n",
       "       'URUGUAYO', 'PANAMEÑA', 'INDONESA', 'SIERRALEONÉS', 'SRI LANKA',\n",
       "       'JAPONESA', 'NIGERIANO', 'BOLIVIANO', 'SUECO', 'SIRIO',\n",
       "       'ECUATOGUINEANO', 'ALBANO', 'PALESTINO', 'ITALIANO',\n",
       "       'GUATEMALTECO', 'SUDAFRICANO', 'CAMERUNÉS', 'VIETNAMITA', 'ALEMÁN',\n",
       "       'PAKISTANÍ', 'PAPÚ', 'BELGA', 'ESTONIO', 'YEMENÍ', 'UCRANIANO',\n",
       "       'SALVADOREÑO', 'MARROQUÍ', 'RUSO', 'RUMANO', 'FILIPINO',\n",
       "       'GUINEANO', 'GHANÉS', 'HAITIANO', 'LETONIO', 'HONDUREÑO',\n",
       "       'SE DESCONOCE', 'SUIZO', 'IRANÍ', 'UGANDÉS', 'CONGOLEÑO', 'DANES',\n",
       "       'PORTUGUEÑA', 'MALAYO'], dtype=object)"
      ]
     },
     "execution_count": 83,
     "metadata": {},
     "output_type": "execute_result"
    }
   ],
   "source": [
    "datos_2019['nacionalidad'].unique()"
   ]
  },
  {
   "cell_type": "code",
   "execution_count": 84,
   "metadata": {},
   "outputs": [
    {
     "data": {
      "text/plain": [
       "array(['ECUATORIANO', 'VENEZOLANO', 'COLOMBIANO', 'ESPAÑOL', 'PERUANO',\n",
       "       'ARGENTINO', 'SIN DATO', 'ESTADOUNIDENCE', 'CHINO', 'DOMINICANO',\n",
       "       'CHILENO', 'MEXICANO', 'BUTAN', 'BRASILEÑO', 'PARAGUAYA',\n",
       "       'LIBANES', 'BANGLADESH', 'TAIWAN', 'INDIO', 'FRANCÉS', 'CUBANO',\n",
       "       'URUGUAYO', 'PANAMEÑA', 'INDONESA', 'SIERRALEONÉS', 'SRI LANKA',\n",
       "       'JAPONESA', 'NIGERIANO', 'BOLIVIANO', 'SUECO', 'SIRIO',\n",
       "       'ECUATOGUINEANO', 'ALBANO', 'PALESTINO', 'ITALIANO',\n",
       "       'GUATEMALTECO', 'SUDAFRICANO', 'CAMERUNÉS', 'VIETNAMITA', 'ALEMÁN',\n",
       "       'PAKISTANÍ', 'PAPÚ', 'BELGA', 'ESTONIO', 'YEMENÍ', 'UCRANIANO',\n",
       "       'SALVADOREÑO', 'MARROQUÍ', 'RUSO', 'RUMANO', 'FILIPINO',\n",
       "       'GUINEANO', 'GHANÉS', 'HAITIANO', 'LETONIO', 'HONDUREÑO', 'SUIZO',\n",
       "       'IRANÍ', 'UGANDÉS', 'CONGOLEÑO', 'DANES', 'PORTUGUEÑA', 'MALAYO'],\n",
       "      dtype=object)"
      ]
     },
     "execution_count": 84,
     "metadata": {},
     "output_type": "execute_result"
    }
   ],
   "source": [
    "datos_2019 = datos_2019[datos_2019['nacionalidad'] != 'SE DESCONOCE']\n",
    "datos_2019['nacionalidad'].unique()"
   ]
  },
  {
   "cell_type": "code",
   "execution_count": 85,
   "metadata": {},
   "outputs": [
    {
     "data": {
      "text/plain": [
       "array(['ZAMORA CHINCHIPE', 'DMG', 'MORONA SANTIAGO', 'PICHINCHA', 'LOJA',\n",
       "       'ORELLANA', 'CHIMBORAZO', 'COTOPAXI', 'DMQ', 'NAPO', 'TUNGURAHUA',\n",
       "       'AZUAY', 'EL ORO', 'LOS RIOS', 'SUCUMBIOS', 'MANABI', 'GUAYAS',\n",
       "       'CARCHI', 'ESMERALDAS', 'IMBABURA', 'BOLIVAR', 'GALAPAGOS',\n",
       "       'SANTO DOMINGO DE LOS TSACHILAS', 'SANTA ELENA', 'CAÑAR',\n",
       "       'PASTAZA', 'MAR TERRITORIAL'], dtype=object)"
      ]
     },
     "execution_count": 85,
     "metadata": {},
     "output_type": "execute_result"
    }
   ],
   "source": [
    "datos_2019['provincia'].unique()"
   ]
  },
  {
   "cell_type": "code",
   "execution_count": 86,
   "metadata": {},
   "outputs": [
    {
     "data": {
      "text/plain": [
       "array(['ZAMORA CHINCHIPE', 'DMG', 'MORONA SANTIAGO', 'PICHINCHA', 'LOJA',\n",
       "       'ORELLANA', 'CHIMBORAZO', 'COTOPAXI', 'DMQ', 'NAPO', 'TUNGURAHUA',\n",
       "       'AZUAY', 'EL ORO', 'LOS RIOS', 'SUCUMBIOS', 'MANABI', 'GUAYAS',\n",
       "       'CARCHI', 'ESMERALDAS', 'IMBABURA', 'BOLIVAR', 'GALAPAGOS',\n",
       "       'SANTO DOMINGO DE LOS TSACHILAS', 'SANTA ELENA', 'CAÑAR',\n",
       "       'PASTAZA'], dtype=object)"
      ]
     },
     "execution_count": 86,
     "metadata": {},
     "output_type": "execute_result"
    }
   ],
   "source": [
    "datos_2019 = datos_2019[datos_2019['provincia'] != 'MAR TERRITORIAL']\n",
    "datos_2019['provincia'].unique()"
   ]
  },
  {
   "cell_type": "code",
   "execution_count": 87,
   "metadata": {},
   "outputs": [
    {
     "data": {
      "text/plain": [
       "array(['ZAMORA CHINCHIPE', 'GUAYAS', 'MORONA SANTIAGO', 'PICHINCHA',\n",
       "       'LOJA', 'ORELLANA', 'CHIMBORAZO', 'COTOPAXI', 'NAPO', 'TUNGURAHUA',\n",
       "       'AZUAY', 'EL ORO', 'LOS RIOS', 'SUCUMBIOS', 'MANABI', 'CARCHI',\n",
       "       'ESMERALDAS', 'IMBABURA', 'BOLIVAR', 'GALAPAGOS',\n",
       "       'SANTO DOMINGO DE LOS TSACHILAS', 'SANTA ELENA', 'CAÑAR',\n",
       "       'PASTAZA'], dtype=object)"
      ]
     },
     "execution_count": 87,
     "metadata": {},
     "output_type": "execute_result"
    }
   ],
   "source": [
    "datos_2019['provincia'] = datos_2019['provincia'].replace({'DMQ': 'PICHINCHA', 'DMG': 'GUAYAS'})\n",
    "datos_2019['provincia'].unique()"
   ]
  },
  {
   "cell_type": "markdown",
   "metadata": {},
   "source": [
    "# Unificación de datasets"
   ]
  },
  {
   "cell_type": "code",
   "execution_count": 94,
   "metadata": {},
   "outputs": [],
   "source": [
    "columns = datos_2019.columns\n",
    "datos_2020 = datos_2020[columns]\n",
    "datos_2021 = datos_2021[columns]\n",
    "datos_2022 = datos_2022[columns]\n",
    "datos_2023 = datos_2023[columns]"
   ]
  },
  {
   "cell_type": "code",
   "execution_count": 100,
   "metadata": {},
   "outputs": [],
   "source": [
    "datos_finales = pd.concat([datos_2019, datos_2020, datos_2021, datos_2022, datos_2023], axis=0)\n",
    "datos_finales.reset_index(drop=True, inplace=True)"
   ]
  },
  {
   "cell_type": "code",
   "execution_count": 105,
   "metadata": {},
   "outputs": [
    {
     "data": {
      "text/html": [
       "<div>\n",
       "<style scoped>\n",
       "    .dataframe tbody tr th:only-of-type {\n",
       "        vertical-align: middle;\n",
       "    }\n",
       "\n",
       "    .dataframe tbody tr th {\n",
       "        vertical-align: top;\n",
       "    }\n",
       "\n",
       "    .dataframe thead th {\n",
       "        text-align: right;\n",
       "    }\n",
       "</style>\n",
       "<table border=\"1\" class=\"dataframe\">\n",
       "  <thead>\n",
       "    <tr style=\"text-align: right;\">\n",
       "      <th></th>\n",
       "      <th>provincia</th>\n",
       "      <th>presunta_subinfraccion</th>\n",
       "      <th>fecha_detencion</th>\n",
       "      <th>sexo</th>\n",
       "      <th>edad</th>\n",
       "      <th>nacionalidad</th>\n",
       "    </tr>\n",
       "  </thead>\n",
       "  <tbody>\n",
       "    <tr>\n",
       "      <th>0</th>\n",
       "      <td>ZAMORA CHINCHIPE</td>\n",
       "      <td>BOLETA DE DETENCIÓN/CAPTURA</td>\n",
       "      <td>2019-02-13</td>\n",
       "      <td>HOMBRE</td>\n",
       "      <td>50</td>\n",
       "      <td>ECUATORIANO</td>\n",
       "    </tr>\n",
       "    <tr>\n",
       "      <th>1</th>\n",
       "      <td>ZAMORA CHINCHIPE</td>\n",
       "      <td>NOVEDADES</td>\n",
       "      <td>2019-01-12</td>\n",
       "      <td>HOMBRE</td>\n",
       "      <td>35</td>\n",
       "      <td>ECUATORIANO</td>\n",
       "    </tr>\n",
       "    <tr>\n",
       "      <th>2</th>\n",
       "      <td>GUAYAS</td>\n",
       "      <td>ALMACENAMIENTO, TRANSPORTE, ENVASADO, COMERCIA...</td>\n",
       "      <td>2019-02-06</td>\n",
       "      <td>HOMBRE</td>\n",
       "      <td>51</td>\n",
       "      <td>ECUATORIANO</td>\n",
       "    </tr>\n",
       "    <tr>\n",
       "      <th>3</th>\n",
       "      <td>ZAMORA CHINCHIPE</td>\n",
       "      <td>BOLETA DE APREMIO</td>\n",
       "      <td>2019-01-17</td>\n",
       "      <td>HOMBRE</td>\n",
       "      <td>25</td>\n",
       "      <td>ECUATORIANO</td>\n",
       "    </tr>\n",
       "    <tr>\n",
       "      <th>4</th>\n",
       "      <td>MORONA SANTIAGO</td>\n",
       "      <td>CONTRAVENCIONES DE PRIMERA CLASE</td>\n",
       "      <td>2019-01-15</td>\n",
       "      <td>HOMBRE</td>\n",
       "      <td>21</td>\n",
       "      <td>ECUATORIANO</td>\n",
       "    </tr>\n",
       "    <tr>\n",
       "      <th>...</th>\n",
       "      <td>...</td>\n",
       "      <td>...</td>\n",
       "      <td>...</td>\n",
       "      <td>...</td>\n",
       "      <td>...</td>\n",
       "      <td>...</td>\n",
       "    </tr>\n",
       "    <tr>\n",
       "      <th>410772</th>\n",
       "      <td>COTOPAXI</td>\n",
       "      <td>CONDUCCIÓN DE VEHÍCULO EN ESTADO DE EMBRIAGUEZ</td>\n",
       "      <td>2023-01-13</td>\n",
       "      <td>HOMBRE</td>\n",
       "      <td>32</td>\n",
       "      <td>ECUATORIANO</td>\n",
       "    </tr>\n",
       "    <tr>\n",
       "      <th>410773</th>\n",
       "      <td>PICHINCHA</td>\n",
       "      <td>VIOLENCIA CONTRA LA MUJER O MIEMBROS DEL NÚCLE...</td>\n",
       "      <td>2023-01-07</td>\n",
       "      <td>HOMBRE</td>\n",
       "      <td>29</td>\n",
       "      <td>ECUATORIANO</td>\n",
       "    </tr>\n",
       "    <tr>\n",
       "      <th>410774</th>\n",
       "      <td>PICHINCHA</td>\n",
       "      <td>BOLETA DE AUXILIO</td>\n",
       "      <td>2023-04-26</td>\n",
       "      <td>HOMBRE</td>\n",
       "      <td>30</td>\n",
       "      <td>ECUATORIANO</td>\n",
       "    </tr>\n",
       "    <tr>\n",
       "      <th>410775</th>\n",
       "      <td>CHIMBORAZO</td>\n",
       "      <td>ROBO  A DOMICILIO</td>\n",
       "      <td>2023-04-12</td>\n",
       "      <td>HOMBRE</td>\n",
       "      <td>36</td>\n",
       "      <td>ECUATORIANO</td>\n",
       "    </tr>\n",
       "    <tr>\n",
       "      <th>410776</th>\n",
       "      <td>SANTA ELENA</td>\n",
       "      <td>HURTO</td>\n",
       "      <td>2023-03-11</td>\n",
       "      <td>MUJER</td>\n",
       "      <td>40</td>\n",
       "      <td>ECUATORIANO</td>\n",
       "    </tr>\n",
       "  </tbody>\n",
       "</table>\n",
       "<p>410777 rows × 6 columns</p>\n",
       "</div>"
      ],
      "text/plain": [
       "               provincia                             presunta_subinfraccion  \\\n",
       "0       ZAMORA CHINCHIPE                        BOLETA DE DETENCIÓN/CAPTURA   \n",
       "1       ZAMORA CHINCHIPE                                          NOVEDADES   \n",
       "2                 GUAYAS  ALMACENAMIENTO, TRANSPORTE, ENVASADO, COMERCIA...   \n",
       "3       ZAMORA CHINCHIPE                                  BOLETA DE APREMIO   \n",
       "4        MORONA SANTIAGO                   CONTRAVENCIONES DE PRIMERA CLASE   \n",
       "...                  ...                                                ...   \n",
       "410772          COTOPAXI     CONDUCCIÓN DE VEHÍCULO EN ESTADO DE EMBRIAGUEZ   \n",
       "410773         PICHINCHA  VIOLENCIA CONTRA LA MUJER O MIEMBROS DEL NÚCLE...   \n",
       "410774         PICHINCHA                                  BOLETA DE AUXILIO   \n",
       "410775        CHIMBORAZO                                  ROBO  A DOMICILIO   \n",
       "410776       SANTA ELENA                                              HURTO   \n",
       "\n",
       "       fecha_detencion    sexo edad nacionalidad  \n",
       "0           2019-02-13  HOMBRE   50  ECUATORIANO  \n",
       "1           2019-01-12  HOMBRE   35  ECUATORIANO  \n",
       "2           2019-02-06  HOMBRE   51  ECUATORIANO  \n",
       "3           2019-01-17  HOMBRE   25  ECUATORIANO  \n",
       "4           2019-01-15  HOMBRE   21  ECUATORIANO  \n",
       "...                ...     ...  ...          ...  \n",
       "410772      2023-01-13  HOMBRE   32  ECUATORIANO  \n",
       "410773      2023-01-07  HOMBRE   29  ECUATORIANO  \n",
       "410774      2023-04-26  HOMBRE   30  ECUATORIANO  \n",
       "410775      2023-04-12  HOMBRE   36  ECUATORIANO  \n",
       "410776      2023-03-11   MUJER   40  ECUATORIANO  \n",
       "\n",
       "[410777 rows x 6 columns]"
      ]
     },
     "execution_count": 105,
     "metadata": {},
     "output_type": "execute_result"
    }
   ],
   "source": [
    "datos_finales"
   ]
  },
  {
   "cell_type": "code",
   "execution_count": 106,
   "metadata": {},
   "outputs": [],
   "source": [
    "datos_finales.to_csv('datos_finales.csv', index=False)"
   ]
  }
 ],
 "metadata": {
  "kernelspec": {
   "display_name": "Python 3",
   "language": "python",
   "name": "python3"
  },
  "language_info": {
   "codemirror_mode": {
    "name": "ipython",
    "version": 3
   },
   "file_extension": ".py",
   "mimetype": "text/x-python",
   "name": "python",
   "nbconvert_exporter": "python",
   "pygments_lexer": "ipython3",
   "version": "3.11.7"
  }
 },
 "nbformat": 4,
 "nbformat_minor": 2
}
